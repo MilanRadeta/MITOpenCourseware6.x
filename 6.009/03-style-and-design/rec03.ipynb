{
 "cells": [
  {
   "cell_type": "markdown",
   "metadata": {},
   "source": [
    "## Search\n",
    "Let's explore a particular (example) implementation of breadth-first search. The approach here uses an agenda of future nodes or paths to try. We keep track of nodes already seen, so we don't re-visit unsuccessful nodes.\n",
    "\n",
    "A little later, we will reimplement our search using different queue abstractions, and then experiment with those to see the difference between **breadth-first** and **depth-first** search."
   ]
  },
  {
   "cell_type": "code",
   "execution_count": null,
   "metadata": {},
   "outputs": [],
   "source": [
    "from rec03_table import notebook_table #visualization"
   ]
  },
  {
   "cell_type": "code",
   "execution_count": null,
   "metadata": {},
   "outputs": [],
   "source": [
    "def search(start, is_goal, successors):\n",
    "    \"\"\" Search for and return a node satisfying a goal\n",
    "    \n",
    "    start: the starting node\n",
    "    is_goal(node): returns True if node satisfies the goal\n",
    "    successors(node): a sequence of successor nodes to node\n",
    "    \n",
    "    Uses a list to keep track of an agenda of nodes to try\n",
    "    \"\"\"\n",
    "    agenda = [start]\n",
    "\n",
    "    seen = {start}\n",
    "    print_in_table = notebook_table('seen', 'agenda', 'node =')\n",
    "    while agenda:\n",
    "        print_in_table(seen)\n",
    "        print_in_table(agenda)\n",
    "        node = agenda.pop(0)\n",
    "        print_in_table(node)\n",
    "        if is_goal(node):\n",
    "            return node\n",
    "        for s in successors(node):\n",
    "            if s not in seen:\n",
    "                agenda.append(s)\n",
    "                seen.add(s)"
   ]
  },
  {
   "cell_type": "code",
   "execution_count": null,
   "metadata": {},
   "outputs": [],
   "source": [
    "# Search for a node that has a particular value\n",
    "#\n",
    "def example_1():\n",
    "    def is_goal(node):\n",
    "        return node == 5\n",
    "    def successors(node):\n",
    "        if node < 100:\n",
    "            return [node+1, node+3] #try different things here...\n",
    "        return []\n",
    "\n",
    "    start = 0\n",
    "    res = search(start, is_goal, successors)\n",
    "    notebook_table.display()\n",
    "    print(\"search: start =\", start, \"; result =\", res)"
   ]
  },
  {
   "cell_type": "code",
   "execution_count": null,
   "metadata": {},
   "outputs": [],
   "source": [
    "example_1()"
   ]
  },
  {
   "cell_type": "code",
   "execution_count": null,
   "metadata": {},
   "outputs": [],
   "source": [
    "# Search for non-zero number divisible by x and y \n",
    "#\n",
    "def example_2():\n",
    "    x = 3; y = 4\n",
    "    def is_goal(node):\n",
    "        return node != 0 and node % x == 0 and node % y == 0\n",
    "    def successors(node):\n",
    "        if node < 100:\n",
    "            return [node+1] #try different things here\n",
    "        return []\n",
    "    start = 0\n",
    "    res = search(start, is_goal, successors)\n",
    "    notebook_table.display()\n",
    "    print(\"search: start =\", start, \"; result =\", res)"
   ]
  },
  {
   "cell_type": "code",
   "execution_count": null,
   "metadata": {},
   "outputs": [],
   "source": [
    "example_2()"
   ]
  },
  {
   "cell_type": "markdown",
   "metadata": {},
   "source": [
    "### Reimplement search using a queue abstraction"
   ]
  },
  {
   "cell_type": "code",
   "execution_count": null,
   "metadata": {
    "collapsed": true
   },
   "outputs": [],
   "source": [
    "def search(start, is_goal, successors):\n",
    "    \"\"\" Search for a node that satisfies a goal.\n",
    "\n",
    "    Uses a queue, implemented as a group of functions:\n",
    "    make_queue, queue_empty, queue_next, queue_add\n",
    "    \"\"\"\n",
    "    agenda = make_queue(start) ##\n",
    "    seen = {start}\n",
    "    print_in_table = notebook_table('seen', 'queue_elts(agenda)', 'node =')\n",
    "    while not queue_empty(agenda): ##\n",
    "        print_in_table(seen)\n",
    "        print_in_table(queue_elts(agenda)) ##\n",
    "        node = queue_next(agenda) ##\n",
    "        print_in_table(node)\n",
    "        if is_goal(node):\n",
    "            return node\n",
    "        for s in successors(node): \n",
    "            if s not in seen:\n",
    "                queue_add(agenda, s) ##\n",
    "                seen.add(s)"
   ]
  },
  {
   "cell_type": "code",
   "execution_count": null,
   "metadata": {
    "collapsed": true
   },
   "outputs": [],
   "source": [
    "# FIFO (first in, first out) queue as a list\n",
    "#\n",
    "# Add elements to end of list; pop off front of list\n",
    "#\n",
    "def make_queue(e):\n",
    "    return [e]\n",
    "\n",
    "def queue_empty(q):\n",
    "    return len(q) == 0\n",
    "\n",
    "def queue_next(q):\n",
    "    return q.pop(0)\n",
    "\n",
    "def queue_add(q, elt):\n",
    "    q.append(elt)\n",
    "    \n",
    "def queue_elts(q):\n",
    "    return q"
   ]
  },
  {
   "cell_type": "code",
   "execution_count": null,
   "metadata": {},
   "outputs": [],
   "source": [
    "example_1()"
   ]
  },
  {
   "cell_type": "markdown",
   "metadata": {},
   "source": [
    "### Change implementation of queue"
   ]
  },
  {
   "cell_type": "code",
   "execution_count": null,
   "metadata": {
    "collapsed": true
   },
   "outputs": [],
   "source": [
    "# FIFO queue as a dictionary\n",
    "#\n",
    "# We'll fill items in the dict with an integer\n",
    "# index as key and the element as value, with\n",
    "# the smallest index being the oldest. Will `del`\n",
    "# dict entry once returned.\n",
    "# \n",
    "def make_queue(e):\n",
    "    return {'oldest': 0,\n",
    "            'newest': 0,\n",
    "            0: e}\n",
    "\n",
    "def queue_empty(q):\n",
    "    return q['newest']-q['oldest'] < 0\n",
    "\n",
    "def queue_add(q, elt):\n",
    "    q[q['newest']+1] = elt\n",
    "    q['newest'] += 1\n",
    "    \n",
    "def queue_elts(q):\n",
    "    return [q[pos] for pos in range(q['oldest'], q['newest']+1)]\n",
    "\n",
    "def fifo_queue_next(q):\n",
    "    \"\"\" FIFO -- First In, First Out: pull from oldest end of queue \"\"\"\n",
    "    c = q['oldest']\n",
    "    val = q[c]\n",
    "    del q[c]\n",
    "    q['oldest'] += 1\n",
    "    return val\n",
    "\n",
    "def lifo_queue_next(q):\n",
    "    \"\"\" LIFO -- Last In, First Out: pull from newest end of queue \"\"\"\n",
    "    c = q['newest']\n",
    "    val = q[c]\n",
    "    del q[c]\n",
    "    q['newest'] -= 1\n",
    "    return val\n",
    "\n",
    "queue_next = fifo_queue_next\n",
    "#queue_next = lifo_queue_next"
   ]
  },
  {
   "cell_type": "code",
   "execution_count": null,
   "metadata": {},
   "outputs": [],
   "source": [
    "example_1()"
   ]
  },
  {
   "cell_type": "markdown",
   "metadata": {},
   "source": [
    "### A message-passing queue implementation (using closures!)\n"
   ]
  },
  {
   "cell_type": "code",
   "execution_count": null,
   "metadata": {
    "collapsed": true
   },
   "outputs": [],
   "source": [
    "# Example of this 'message-passing' interface:\n",
    "def test_dict_queue():\n",
    "    q = make_queue(1, lifo=True)\n",
    "    for e in [2, 3, 4, 2]:\n",
    "        q('add', e)\n",
    "    while not q('empty'):\n",
    "        print(\"q elts:\", q('elts'), \"; next:\", q('next'))"
   ]
  },
  {
   "cell_type": "code",
   "execution_count": null,
   "metadata": {
    "collapsed": true
   },
   "outputs": [],
   "source": [
    "# Message passing queue implementation\n",
    "def make_queue(e, lifo=False):\n",
    "    q = {'oldest': 0, 'newest': 0, 0: e}\n",
    "\n",
    "    def _empty():\n",
    "        return q['newest']-q['oldest'] < 0\n",
    "\n",
    "    def _add(elt):\n",
    "        q['newest'] += 1\n",
    "        q[q['newest']] = elt\n",
    "\n",
    "    def _elts():\n",
    "        return [q[p] for p in range(q['oldest'], q['newest']+1)]\n",
    "\n",
    "    def _fifo_next():\n",
    "        \"\"\" FIFO -- pull from the oldest end of queue \"\"\"\n",
    "        c = q['oldest']\n",
    "        val = q[c]\n",
    "        del q[c]\n",
    "        q['oldest'] += 1\n",
    "        return val\n",
    "\n",
    "    def _lifo_next():\n",
    "        \"\"\" LIFO -- pull from the newest end of queue \"\"\"\n",
    "        c = q['newest']\n",
    "        val = q[c]\n",
    "        del q[c]\n",
    "        q['newest'] -= 1\n",
    "        return val\n",
    "\n",
    "    _dispatch = {'empty': _empty,\n",
    "                 'next': _lifo_next if lifo else _fifo_next,\n",
    "                 'add': _add,\n",
    "                 'elts': _elts,\n",
    "    }\n",
    "                 \n",
    "    def _message(msg, *args):\n",
    "        return _dispatch[msg](*args)\n",
    "\n",
    "    return _message"
   ]
  },
  {
   "cell_type": "code",
   "execution_count": null,
   "metadata": {},
   "outputs": [],
   "source": [
    "def test_dict_queue(lifo=False):\n",
    "    print(\"\\ntest_dict_queue of type\", \"LIFO\" if lifo else \"FILO\")\n",
    "    q = make_queue(1, lifo=lifo)\n",
    "    for e in [2, 3, 4, 2]:\n",
    "        q('add', e)\n",
    "    while not q('empty'):\n",
    "        print(\"q elts:\", q('elts'), \"; next:\", q('next'))\n",
    "\n",
    "test_dict_queue()\n",
    "test_dict_queue(lifo=True)"
   ]
  },
  {
   "cell_type": "markdown",
   "metadata": {},
   "source": [
    "### New search implementation using message-passing queue"
   ]
  },
  {
   "cell_type": "code",
   "execution_count": null,
   "metadata": {
    "collapsed": true
   },
   "outputs": [],
   "source": [
    "def search(start, is_goal, successors, dfs=False):\n",
    "    \"\"\" Search for a node that satisfies a goal.\n",
    "\n",
    "    Internal use of a message-passing queue:\n",
    "    q = make_queue(start, lifo=False) #fifo by default\n",
    "    q('empty'), q('next'), q('add', elt), q('elts')\n",
    "    \"\"\"\n",
    "    agenda = make_queue(start, lifo=dfs)\n",
    "    seen = {start}\n",
    "    print_in_table = notebook_table('seen', 'agenda(\"elts\")', 'node =')\n",
    "    while not agenda('empty'):\n",
    "        print_in_table(seen)\n",
    "        print_in_table(agenda('elts'))\n",
    "        node = agenda('next')\n",
    "        print_in_table(node)\n",
    "        if is_goal(node):\n",
    "            return node\n",
    "        for s in successors(node):\n",
    "            if s not in seen:\n",
    "                agenda('add', s)\n",
    "                seen.add(s)"
   ]
  },
  {
   "cell_type": "code",
   "execution_count": null,
   "metadata": {},
   "outputs": [],
   "source": [
    "example_1()"
   ]
  },
  {
   "cell_type": "code",
   "execution_count": null,
   "metadata": {},
   "outputs": [],
   "source": [
    "example_2()"
   ]
  },
  {
   "cell_type": "markdown",
   "metadata": {},
   "source": [
    "### Example directed graph\n",
    "\n",
    "<img src=\"images/graph1.png\" width=\"250\" align=\"left\"/>"
   ]
  },
  {
   "cell_type": "code",
   "execution_count": null,
   "metadata": {
    "collapsed": true
   },
   "outputs": [],
   "source": [
    "graph1 = {'root': [13, ['A', 'B', 'C']],\n",
    "          'A': [77, ['D', 'E']],\n",
    "          'B': [42, []],\n",
    "          'C': [0, ['G']],\n",
    "          'D': [-32, ['F']],\n",
    "          'E': [42, ['F']],\n",
    "          'F': [215, []],\n",
    "          'G': [8, []],\n",
    "}"
   ]
  },
  {
   "cell_type": "code",
   "execution_count": null,
   "metadata": {
    "collapsed": true
   },
   "outputs": [],
   "source": [
    "def example_3(dfs):\n",
    "    start = 'root'\n",
    "    goal_value = 42\n",
    "    \n",
    "    def is_goal(node):\n",
    "        return graph1[node][0] == goal_value\n",
    "\n",
    "    def successors(node):\n",
    "        return graph1[node][1]\n",
    "\n",
    "    res = search(start, is_goal, successors, dfs=dfs)\n",
    "    notebook_table.display()"
   ]
  },
  {
   "cell_type": "code",
   "execution_count": null,
   "metadata": {},
   "outputs": [],
   "source": [
    "example_3(dfs=False)"
   ]
  },
  {
   "cell_type": "code",
   "execution_count": null,
   "metadata": {},
   "outputs": [],
   "source": [
    "example_3(dfs=True)"
   ]
  },
  {
   "cell_type": "markdown",
   "metadata": {},
   "source": [
    "### Consider a `search_path` capability to find a path to a node that satisfies a goal"
   ]
  },
  {
   "cell_type": "code",
   "execution_count": null,
   "metadata": {
    "collapsed": true
   },
   "outputs": [],
   "source": [
    "def search_path(start, is_goal, successors, dfs=False):\n",
    "    \"\"\" Search for a path that satisfies a goal. \n",
    "\n",
    "    start:            the starting node\n",
    "    is_goal(node):    returns True if node satisfies the goal\n",
    "    successors(node): a sequence of successor nodes to node\n",
    "    \"\"\"\n",
    "    # MODIFY search (DUPLICATED BELOW) TO IMPLEMENT search_path\n",
    "    agenda = make_queue(start, lifo=dfs)\n",
    "    paths = {start: [start]}\n",
    "    seen = {start}\n",
    "    print_in_table = notebook_table('seen', 'agenda(\"elts\")', 'node =')\n",
    "    while not agenda('empty'):\n",
    "        print_in_table(seen)\n",
    "        print_in_table(agenda('elts'))\n",
    "        node = agenda('next')\n",
    "        print_in_table(node)\n",
    "        if is_goal(node):\n",
    "            return node, paths[node]\n",
    "        for s in successors(node):\n",
    "            if s not in seen:\n",
    "                agenda('add', s)\n",
    "                paths[s] = paths[node] + [s]\n",
    "                seen.add(s)"
   ]
  },
  {
   "cell_type": "code",
   "execution_count": null,
   "metadata": {
    "collapsed": true
   },
   "outputs": [],
   "source": [
    "def example_4(dfs=False):\n",
    "    start = 'root'\n",
    "\n",
    "    def is_goal(node):\n",
    "        #return graph1[node][0] == 42 # node with value\n",
    "        return graph1[node][0] > 0 and graph1[node][0] % 2 == 0 # node with positive even value\n",
    "\n",
    "    def successors(node):\n",
    "        return graph1[node][1]\n",
    "\n",
    "    res = search_path(start, is_goal, successors, dfs=dfs)\n",
    "    notebook_table.display()\n",
    "    print('result: ', res)"
   ]
  },
  {
   "cell_type": "code",
   "execution_count": null,
   "metadata": {},
   "outputs": [],
   "source": [
    "example_4(dfs=False)"
   ]
  },
  {
   "cell_type": "code",
   "execution_count": null,
   "metadata": {},
   "outputs": [],
   "source": [
    "example_4(dfs=True)"
   ]
  },
  {
   "cell_type": "markdown",
   "metadata": {},
   "source": [
    "### What if we want *all* paths?"
   ]
  },
  {
   "cell_type": "markdown",
   "metadata": {},
   "source": [
    "Our code above only finds one path to a node that satisfies the goal. How would we gather all paths? Assume that there are no cycles in the graph."
   ]
  },
  {
   "cell_type": "code",
   "execution_count": null,
   "metadata": {
    "collapsed": true
   },
   "outputs": [],
   "source": [
    "# Search for all paths whose end satisfies a goal.\n",
    "#\n",
    "def search_all_paths(start, is_goal, successors, dfs=False):\n",
    "    agenda = make_queue(start, lifo=dfs)\n",
    "    paths = {start: [start]}\n",
    "    seen = {start}\n",
    "    print_in_table = notebook_table('seen', 'agenda(\"elts\")', 'node =')\n",
    "    result = []\n",
    "    while not agenda('empty'):\n",
    "        print_in_table(seen)\n",
    "        print_in_table(agenda('elts'))\n",
    "        node = agenda('next')\n",
    "        print_in_table(node)\n",
    "        if is_goal(node):\n",
    "            result.append((node, paths[node][:]))\n",
    "        for s in successors(node):\n",
    "            if s not in seen:\n",
    "                agenda('add', s)\n",
    "                paths[s] = paths[node] + [s]\n",
    "                seen.add(s)\n",
    "    return result\n"
   ]
  },
  {
   "cell_type": "code",
   "execution_count": null,
   "metadata": {
    "collapsed": true
   },
   "outputs": [],
   "source": [
    "def example_5(dfs=False):\n",
    "    start = 'root'\n",
    "\n",
    "    def is_goal(node):\n",
    "        #return graph1[node][0] == 42 # node with value\n",
    "        return graph1[node][0] > 0 and graph1[node][0] % 2 == 0 # node with positive even value\n",
    "\n",
    "    def successors(node):\n",
    "        return graph1[node][1]\n",
    "\n",
    "    res = search_all_paths(start, is_goal, successors, dfs=dfs)\n",
    "    notebook_table.display()\n",
    "    print('result: ', res)"
   ]
  },
  {
   "cell_type": "code",
   "execution_count": null,
   "metadata": {},
   "outputs": [],
   "source": [
    "example_5(dfs=False)"
   ]
  },
  {
   "cell_type": "code",
   "execution_count": null,
   "metadata": {},
   "outputs": [],
   "source": [
    "example_5(dfs=True)"
   ]
  },
  {
   "cell_type": "code",
   "execution_count": null,
   "metadata": {},
   "outputs": [],
   "source": []
  }
 ],
 "metadata": {
  "kernelspec": {
   "display_name": "Python 3",
   "language": "python",
   "name": "python3"
  },
  "language_info": {
   "codemirror_mode": {
    "name": "ipython",
    "version": 3
   },
   "file_extension": ".py",
   "mimetype": "text/x-python",
   "name": "python",
   "nbconvert_exporter": "python",
   "pygments_lexer": "ipython3",
   "version": "3.8.5"
  }
 },
 "nbformat": 4,
 "nbformat_minor": 4
}
