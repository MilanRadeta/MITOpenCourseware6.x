{
 "cells": [
  {
   "cell_type": "markdown",
   "metadata": {},
   "source": [
    "## Python Classes\n",
    "This notebook contains the examples from lecture, plus some additional examples.  It seeks to remind us about basics, and some fine points, related to object oriented mechanisms in Python:\n",
    "\n",
    "* instance and class attributes\n",
    "* inheritance\n",
    "* static and class methods\n",
    "* properties\n",
    "\n",
    "Please feel free to try these things out, and if anything is confusing/surprising, try usingan environment diagram and/or asking for clarification on the forum!"
   ]
  },
  {
   "cell_type": "markdown",
   "metadata": {},
   "source": [
    "### Instance and Class Attributes"
   ]
  },
  {
   "cell_type": "code",
   "execution_count": null,
   "metadata": {},
   "outputs": [],
   "source": [
    "class A:\n",
    "    x = \"dog\"\n",
    "\n",
    "a = A()\n",
    "print(\"a.x:\", a.x)"
   ]
  },
  {
   "cell_type": "code",
   "execution_count": null,
   "metadata": {},
   "outputs": [],
   "source": [
    "x = \"cat\"\n",
    "\n",
    "class B(A):\n",
    "    x = \"ferret\"\n",
    "    def __init__(self):\n",
    "        #self.x = x\n",
    "        self.x = \"tomato\"\n",
    "\n",
    "b = B()\n",
    "print(\"b.x:\", b.x)\n",
    "\n",
    "# What will be printed?\n",
    "#  1 - b.x: dog\n",
    "#  2 - b.x: ferret\n",
    "#  3 - b.x: cat\n",
    "#  4 - b.x: tomato\n",
    "#  5 - Other or error"
   ]
  },
  {
   "cell_type": "code",
   "execution_count": null,
   "metadata": {},
   "outputs": [],
   "source": [
    "class C(B):\n",
    "    x = \"fish\"\n",
    "    def __init__(self):\n",
    "        pass\n",
    "        #B.__init__(self)\n",
    "        \n",
    "c = C()\n",
    "print(\"c.x:\", c.x)\n",
    "\n",
    "# What will be printed?\n",
    "#  1 - c.x: dog\n",
    "#  2 - c.x: ferret\n",
    "#  3 - c.x: fish\n",
    "#  4 - c.x: tomato\n",
    "#  5 - Other or error"
   ]
  },
  {
   "cell_type": "code",
   "execution_count": null,
   "metadata": {},
   "outputs": [],
   "source": [
    "# A glimpse behind the curtain: instance attributes are stored in a dict associated with each instance\n",
    "print(a.__dict__)  \n",
    "print(b.__dict__)\n",
    "print(c.__dict__)\n",
    "print()\n",
    "print(A.__dict__)\n",
    "print(B.__dict__)\n",
    "print(C.__dict__)\n",
    "print()\n",
    "print(\"c.__class__ =\", c.__class__)\n",
    "print(\"c.__class__.__name__ =\", c.__class__.__name__)\n",
    "print(\"type(c) =\", type(c))\n",
    "print(\"isinstance(c, A):\", isinstance(c, A))"
   ]
  },
  {
   "cell_type": "markdown",
   "metadata": {},
   "source": [
    "#### Some attribute accessors (fine points)"
   ]
  },
  {
   "cell_type": "code",
   "execution_count": null,
   "metadata": {},
   "outputs": [],
   "source": [
    "print(getattr(c, 'x', \"default val\"))\n",
    "print(getattr(c, 'y', \"default val\"))\n",
    "print(c.x)\n",
    "print(C.x)\n",
    "print(type(c).x)"
   ]
  },
  {
   "cell_type": "markdown",
   "metadata": {},
   "source": [
    "### Method inheritance\n",
    "Methods can be thought of as class (or instance) attributes that happen to be functions: they are resolved similarly, then called on their arguments. There are various special syntactic forms and protocols that govern instance creation, initialization, destruction, as well as method invocation syntax to make it convenient to pass along the instance object itself."
   ]
  },
  {
   "cell_type": "code",
   "execution_count": null,
   "metadata": {},
   "outputs": [],
   "source": [
    "class Bar():\n",
    "    def __init__(self, val):\n",
    "        self.x = val\n",
    "\n",
    "class Foo(Bar):\n",
    "    x = 100\n",
    "    def increment(this):  # conventionally 'self' rather than 'this' or other variable names\n",
    "        this.x += 1\n",
    "\n",
    "f = Foo(33)\n",
    "print(\"f.x:\", f.x)\n",
    "f.increment()\n",
    "print(\"f.x:\", f.x)"
   ]
  },
  {
   "cell_type": "markdown",
   "metadata": {},
   "source": [
    "#### Invoking a superclass method:"
   ]
  },
  {
   "cell_type": "code",
   "execution_count": null,
   "metadata": {},
   "outputs": [],
   "source": [
    "class Bar():\n",
    "    def __init__(self, val):\n",
    "        self.x = val\n",
    "\n",
    "class Foo(Bar):\n",
    "    x = 100\n",
    "    def __init__(self, val):\n",
    "        Bar.__init__(self, val)\n",
    "        self.x = self.x * Foo.x\n",
    "        \n",
    "    def increment(self):\n",
    "        self.x += 1\n",
    "\n",
    "f = Foo(33)\n",
    "print(\"f.x:\", f.x)\n",
    "f.increment()\n",
    "print(\"f.x:\", f.x)"
   ]
  },
  {
   "cell_type": "markdown",
   "metadata": {},
   "source": [
    "#### Invoking a subclass method from a superclass:"
   ]
  },
  {
   "cell_type": "code",
   "execution_count": null,
   "metadata": {},
   "outputs": [],
   "source": [
    "class Bar():\n",
    "    def __init__(self, val):\n",
    "        self.x = val\n",
    "        \n",
    "    def double_increment(self):\n",
    "        self.increment()\n",
    "        self.increment()\n",
    "        #type(self).increment(self)\n",
    "        \n",
    "class Foo(Bar):\n",
    "    def increment(self):\n",
    "        self.x += 1\n",
    "\n",
    "class Gorp(Bar):\n",
    "    delta = 100\n",
    "    def increment(self):\n",
    "        self.x += self.delta\n",
    "             \n",
    "f = Foo(0)\n",
    "print(\"f.x:\", f.x)\n",
    "f.double_increment()\n",
    "print(\"f.x:\", f.x)\n",
    "\n",
    "g = Gorp(0)\n",
    "print(\"g.x:\", g.x)\n",
    "g.double_increment()\n",
    "print(\"g.x:\", g.x)"
   ]
  },
  {
   "cell_type": "markdown",
   "metadata": {},
   "source": [
    "## Static Methods\n",
    "Sometimes we don't want to pass (implicitly or explicitly) the object instance, but we still want to associate a function with a class in some way. For this we can use _decorators_ to indicate this modified behavior.\n",
    "\n",
    "#### @staticmethod -- omits the self argument"
   ]
  },
  {
   "cell_type": "code",
   "execution_count": null,
   "metadata": {},
   "outputs": [],
   "source": [
    "class Gorp(Bar):\n",
    "    delta = 100\n",
    "    def increment(self):\n",
    "        self.x += self.delta\n",
    "\n",
    "    def set_delta(self, d): #note -- conventional method, takes self argument\n",
    "        Gorp.delta = d\n",
    "        return Gorp.delta\n",
    "    \n",
    "    @staticmethod\n",
    "    def set_del(d):  #note -- staticmethod, does not take self argument\n",
    "        Gorp.delta = d\n",
    "        return Gorp.delta\n",
    "    \n",
    "g = Gorp(0)\n",
    "print(\"g.set_delta(200):\", g.set_delta(200))  # but feels wrong to change a class attribute through g.something...\n",
    "print(\"g.set_del(300):\", g.set_del(300))      # still feels wrong\n",
    "print(\"Gorp.set_del(400):\", Gorp.set_del(400))  # cleaner/clearer"
   ]
  },
  {
   "cell_type": "markdown",
   "metadata": {},
   "source": [
    "#### @classmethod -- passes class of target rather than target\n",
    "Sometimes we want to have the class of the object as the lead argument, not the object itself (particularly useful for methods that create new instances of class, rather than working with a particular pre-existing instance):"
   ]
  },
  {
   "cell_type": "code",
   "execution_count": null,
   "metadata": {},
   "outputs": [],
   "source": [
    "class Polygon:\n",
    "    color = \"white\"\n",
    "    @classmethod\n",
    "    def shade(cls, color):\n",
    "        cls.color = color\n",
    "    \n",
    "class Rectangle(Polygon):\n",
    "    color = \"green\"\n",
    "\n",
    "class Square(Rectangle):\n",
    "    color = \"blue\"\n",
    "\n",
    "print(\"Square.color:\", Square.color)\n",
    "Square.shade(\"red\")\n",
    "print(\"Square.color:\", Square.color)\n",
    "\n",
    "r1 = Rectangle()\n",
    "r2 = Rectangle()\n",
    "print(\"Rectangle.color:\", Rectangle.color)\n",
    "print(\"r2.color:\", r1.color)\n",
    "r1.shade(\"burnt orange\") # UGLY -- changes color of ALL Rectangles, not just r1\n",
    "print(\"after r1.shade('burnt orange'), r2.color:\", r1.color)"
   ]
  },
  {
   "cell_type": "markdown",
   "metadata": {},
   "source": [
    "## Properties\n",
    "Suppose we want a simple \"object.x\" syntax for getting or setting an attribute, but we want/need computation beyond just looking up or setting an instance variable?  We have `@property` and `@<var>.setter` for this:"
   ]
  },
  {
   "cell_type": "code",
   "execution_count": null,
   "metadata": {},
   "outputs": [],
   "source": [
    "class Bounded():\n",
    "    \"\"\" Keep track of variable x, but clipped to xmin and xmax \"\"\"\n",
    "    xmin, xmax = 50, 100\n",
    "    def __init__(self, x):\n",
    "        self.__x = x  # __ means a private attribute not to be accessed outside class\n",
    "        \n",
    "    # maintain invariant when on variable get\n",
    "    @property\n",
    "    def x(self):\n",
    "        return max(min(self.xmax, self.__x), self.xmin)\n",
    "\n",
    "a = Bounded(231)\n",
    "print(\"a.x:\", a.x)  \n",
    "#a.x = -33"
   ]
  },
  {
   "cell_type": "code",
   "execution_count": null,
   "metadata": {},
   "outputs": [],
   "source": [
    "class Bounded():\n",
    "    \"\"\" Keep track of variable x, but clipped to xmin and xmax \"\"\"\n",
    "    xmin, xmax = 50, 100\n",
    "    def __init__(self, x):\n",
    "        self.x = x   # calls x.setter\n",
    "        \n",
    "    @property\n",
    "    def x(self):\n",
    "        return self.__x\n",
    "\n",
    "    # maintain invariant on variable set\n",
    "    @x.setter\n",
    "    def x(self, val):\n",
    "        self.__x = max(min(self.xmax, val), self.xmin)\n",
    "\n",
    "a = Bounded(231)\n",
    "print(\"a.x:\", a.x)   \n",
    "a.x = -33\n",
    "print(\"a.x:\", a.x)  "
   ]
  }
 ],
 "metadata": {
  "kernelspec": {
   "display_name": "Python 3",
   "language": "python",
   "name": "python3"
  },
  "language_info": {
   "codemirror_mode": {
    "name": "ipython",
    "version": 3
   },
   "file_extension": ".py",
   "mimetype": "text/x-python",
   "name": "python",
   "nbconvert_exporter": "python",
   "pygments_lexer": "ipython3",
   "version": "3.8.6"
  }
 },
 "nbformat": 4,
 "nbformat_minor": 2
}
