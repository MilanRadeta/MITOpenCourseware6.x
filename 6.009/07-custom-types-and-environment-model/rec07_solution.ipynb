{
 "cells": [
  {
   "cell_type": "markdown",
   "metadata": {},
   "source": [
    "## Object-Oriented Design: War Card Game\n",
    "\n",
    "Now let's design a card game. If you've never played War before (or if you have), \n",
    "here's the variant of the game that we will play. The\n",
    "deck is split evenly between two players. On each turn, both players\n",
    "reveal their first card. The player showing the card with the highest rank takes both\n",
    "cards and adds them to his or her deck, and reshuffles their hand. If there is a tie, the players\n",
    "reveal their next cards. If there is no longer a tie, the player with\n",
    "the highest rank takes all four cards on the revealed stack into their hand (and reshuffles their hand). \n",
    "Otherwise, both players continue revealing their next cards until the tie is broken. \n",
    "The game continues until one player has collected all 52 cards.\n",
    "\n",
    "What classes and methods do we need? Each card has a rank and a suit,\n",
    "so it makes sense to make a **Card** class with these attributes. In our\n",
    "game, \"greater\" cards are those with higher rank; cards with the same\n",
    "rank are \"equal\", no matter what suit they come from.\n",
    "\n",
    "A **Hand** is a collection of Cards, so we'll make that another class. We can give\n",
    "and take cards from a Hand, and also shuffle the cards in a Hand. We'll\n",
    "want to know how many Cards are in a Hand, so we'll need a `num_cards` method,\n",
    "among others.\n",
    "\n",
    "A **Deck** is a special kind of Hand, populated with (in our case) the \n",
    "standard 52 cards. We can `deal` cards from a Deck.\n",
    "\n",
    "A **Player** is also a Hand of cards, but with a (person) name also.\n",
    "\n",
    "Finally, the **Game** class implements all of the game logic. This class\n",
    "implements methods for dealing hands, taking a turn, and playing a\n",
    "game to determine a winner."
   ]
  },
  {
   "cell_type": "markdown",
   "metadata": {},
   "source": [
    "### Card class"
   ]
  },
  {
   "cell_type": "code",
   "execution_count": 206,
   "metadata": {},
   "outputs": [],
   "source": [
    "class Card():\n",
    "    def __init__(self, rank, suit):\n",
    "        \"\"\" rank: integer from 2 to (including) 14\n",
    "            suit: 'S' for Spades, or 'H' for Hearts, \n",
    "                  or 'C' for Clubs, or 'D' for Diamonds\n",
    "        \"\"\"\n",
    "        assert suit in {'S', 'H', 'C', 'D'}\n",
    "        assert rank in range(2,15)\n",
    "        self.rank = rank\n",
    "        self.suit = suit\n",
    "        \n",
    "    suit_str = {'S': \"\\u2660\", 'H': \"\\u2661\", 'C': \"\\u2663\", 'D': \"\\u2662\"}\n",
    "    rank_str = {n: str(n) for n in range(2,11)}\n",
    "    rank_str[11] = 'J'; rank_str[12] = 'Q'; rank_str[13] = 'K'; rank_str[14] = 'A' \n",
    "    \n",
    "    def __str__(self): # '2♡'\n",
    "        return f\"{self.rank_str[self.rank]}{self.suit_str[self.suit]}\"\n",
    "    \n",
    "    def __repr__(self): # Card(2,'H')\n",
    "        return f\"Card({self.rank},'{self.suit}')\"\n",
    "    \n",
    "    def __gt__(self, other):\n",
    "        return self.rank > other.rank\n",
    "    \n",
    "    def __lt__(self, other):\n",
    "        return self.rank < other.rank\n",
    "\n",
    "    def __eq__(self, other):\n",
    "        return self.rank == other.rank"
   ]
  },
  {
   "cell_type": "markdown",
   "metadata": {},
   "source": [
    "Creating Cards, and their repr and str representations:"
   ]
  },
  {
   "cell_type": "code",
   "execution_count": 207,
   "metadata": {},
   "outputs": [
    {
     "data": {
      "text/plain": [
       "Card(2,'H')"
      ]
     },
     "execution_count": 207,
     "metadata": {},
     "output_type": "execute_result"
    }
   ],
   "source": [
    "Card(2,'H') #new instance of Card"
   ]
  },
  {
   "cell_type": "code",
   "execution_count": 208,
   "metadata": {},
   "outputs": [
    {
     "data": {
      "text/plain": [
       "\"Card(2,'H')\""
      ]
     },
     "execution_count": 208,
     "metadata": {},
     "output_type": "execute_result"
    }
   ],
   "source": [
    "repr(Card(2,'H'))"
   ]
  },
  {
   "cell_type": "code",
   "execution_count": 209,
   "metadata": {},
   "outputs": [
    {
     "data": {
      "text/plain": [
       "'2♡'"
      ]
     },
     "execution_count": 209,
     "metadata": {},
     "output_type": "execute_result"
    }
   ],
   "source": [
    "str(Card(2,'H'))"
   ]
  },
  {
   "cell_type": "markdown",
   "metadata": {},
   "source": [
    "Card comparisons -- based on rank, not suit:"
   ]
  },
  {
   "cell_type": "code",
   "execution_count": 210,
   "metadata": {},
   "outputs": [
    {
     "data": {
      "text/plain": [
       "True"
      ]
     },
     "execution_count": 210,
     "metadata": {},
     "output_type": "execute_result"
    }
   ],
   "source": [
    "Card(2,'H') == Card(2,'S') #want True"
   ]
  },
  {
   "cell_type": "code",
   "execution_count": 211,
   "metadata": {},
   "outputs": [
    {
     "data": {
      "text/plain": [
       "False"
      ]
     },
     "execution_count": 211,
     "metadata": {},
     "output_type": "execute_result"
    }
   ],
   "source": [
    "Card(2,'H') > Card(7,'S') #want False"
   ]
  },
  {
   "cell_type": "code",
   "execution_count": 212,
   "metadata": {},
   "outputs": [
    {
     "data": {
      "text/plain": [
       "True"
      ]
     },
     "execution_count": 212,
     "metadata": {},
     "output_type": "execute_result"
    }
   ],
   "source": [
    "Card(2,'H') < Card(7,'S') #want True"
   ]
  },
  {
   "cell_type": "markdown",
   "metadata": {},
   "source": [
    "Some customized notions of equality:"
   ]
  },
  {
   "cell_type": "code",
   "execution_count": 213,
   "metadata": {},
   "outputs": [
    {
     "data": {
      "text/plain": [
       "False"
      ]
     },
     "execution_count": 213,
     "metadata": {},
     "output_type": "execute_result"
    }
   ],
   "source": [
    "Card(2,'H') is Card(2,'H') #want False; different instances"
   ]
  },
  {
   "cell_type": "code",
   "execution_count": 214,
   "metadata": {},
   "outputs": [
    {
     "data": {
      "text/plain": [
       "True"
      ]
     },
     "execution_count": 214,
     "metadata": {},
     "output_type": "execute_result"
    }
   ],
   "source": [
    "Card(2,'H') == Card(2,'H') #want True; based on rank"
   ]
  },
  {
   "cell_type": "code",
   "execution_count": 215,
   "metadata": {},
   "outputs": [
    {
     "data": {
      "text/plain": [
       "True"
      ]
     },
     "execution_count": 215,
     "metadata": {},
     "output_type": "execute_result"
    }
   ],
   "source": [
    "Card(2,'H') == Card(2,'S') #want True; based on rank"
   ]
  },
  {
   "cell_type": "markdown",
   "metadata": {},
   "source": [
    "By implementing <, >, ==, we gain a powerful ability to use many python built-in functions, like `max`, `min`, `sorted`, etc.!"
   ]
  },
  {
   "cell_type": "code",
   "execution_count": 216,
   "metadata": {},
   "outputs": [
    {
     "name": "stdout",
     "output_type": "stream",
     "text": [
      "cards: [Card(3,'S'), Card(14,'D'), Card(10,'D'), Card(14,'H')]\n",
      "max: A♢\n",
      "min: 3♠\n",
      "position of max card: 1\n",
      "regular sorted: ['3♠', '10♢', 'A♢', 'A♡']\n",
      "reverse sorted: ['A♢', 'A♡', '10♢', '3♠']\n"
     ]
    }
   ],
   "source": [
    "cards = [Card(3,'S'), Card(14,'D'), Card(10,'D'), Card(14,'H')]\n",
    "print(\"cards:\", cards) # note: str(<list>) creates a string of the list of <repr of list elements>\n",
    "print(\"max:\", max(cards))\n",
    "print(\"min:\", min(cards))\n",
    "print(\"position of max card:\", cards.index(max(cards)))\n",
    "print(\"regular sorted:\", [str(c) for c in sorted(cards)])\n",
    "print(\"reverse sorted:\", [str(c) for c in sorted(cards, reverse=True)])"
   ]
  },
  {
   "cell_type": "markdown",
   "metadata": {},
   "source": [
    "### Hand class"
   ]
  },
  {
   "cell_type": "code",
   "execution_count": 217,
   "metadata": {},
   "outputs": [],
   "source": [
    "import random\n",
    "class Hand():\n",
    "    def __init__(self, cards=[]):\n",
    "        self.cards = [] #avoid aliasing; receive_cards into new empty list\n",
    "        self.receive_cards(cards)\n",
    "\n",
    "    def receive_cards(self, cards):\n",
    "        \"\"\" Receive cards into hand \"\"\"\n",
    "        for c in cards:\n",
    "            self.receive_card(c)\n",
    "        \n",
    "    def receive_card(self, card):\n",
    "        \"\"\" Receive single card into bottom of hand \"\"\"\n",
    "        self.cards.append(card)\n",
    "\n",
    "    def shuffle(self):\n",
    "        \"\"\" Shuffle the deck by rearranging the cards in random order. \"\"\"\n",
    "        if self.cards:\n",
    "            random.shuffle(self.cards)\n",
    "\n",
    "    def give_card(self):\n",
    "        \"\"\" Remove and return the card at the top of the hand. \"\"\"\n",
    "        assert self.num_cards > 0\n",
    "        return self.cards.pop(0)\n",
    "    \n",
    "    def give_cards(self):\n",
    "        \"\"\" Remove and yield cards from the top of the hand, until\n",
    "            there are no more cards \"\"\"\n",
    "        while self.num_cards > 0:\n",
    "            yield self.cards.pop(0)\n",
    "        \n",
    "    #make num_cards method look like an attribute\n",
    "    @property\n",
    "    def num_cards(self):\n",
    "        return len(self.cards)\n",
    "\n",
    "    def __iter__(self):\n",
    "        \"\"\" Iterator over the cards in the hand. Does not remove\n",
    "            the cards from the hand. \"\"\"\n",
    "        yield from self.cards\n",
    "\n",
    "    def __repr__(self): # Hand([Card(2,'S')])\n",
    "        return f\"Hand({self.cards})\"\n",
    "    \n",
    "    def __str__(self): # ['2♠']\n",
    "        return str([str(card) for card in self.cards])"
   ]
  },
  {
   "cell_type": "code",
   "execution_count": 218,
   "metadata": {},
   "outputs": [
    {
     "name": "stdout",
     "output_type": "stream",
     "text": [
      "hand: ['2♠', 'K♡', '7♣']\n",
      "num_cards: 3\n",
      "give card: 2♠\n",
      "rest of cards: ['K♡', '7♣']\n"
     ]
    },
    {
     "data": {
      "text/plain": [
       "Hand([])"
      ]
     },
     "execution_count": 218,
     "metadata": {},
     "output_type": "execute_result"
    }
   ],
   "source": [
    "h = Hand()\n",
    "h.receive_card(Card(2,'S'))\n",
    "h.receive_cards([Card(13,'H'), Card(7,'C')])\n",
    "print(\"hand:\", h)\n",
    "print(\"num_cards:\", h.num_cards) #instead of h.num_cards()\n",
    "print(\"give card:\", h.give_card())\n",
    "print(\"rest of cards:\", [str(c) for c in h.give_cards()])\n",
    "h"
   ]
  },
  {
   "cell_type": "markdown",
   "metadata": {},
   "source": [
    "### Deck class"
   ]
  },
  {
   "cell_type": "code",
   "execution_count": 219,
   "metadata": {},
   "outputs": [],
   "source": [
    "class Deck(Hand):\n",
    "    def __init__(self):\n",
    "        super().__init__(Deck.build_deck())\n",
    "        self.size = self.num_cards\n",
    "        self.shuffle()\n",
    "\n",
    "    @staticmethod\n",
    "    def build_deck():\n",
    "        \"\"\"\n",
    "        Return a list of 52 cards, as in a standard deck.\n",
    "\n",
    "        Suits are \"H\" (Hearts), \"S\" (Spades), \"C\" (Clubs), \"D\" (Diamonds).\n",
    "        Ranks in order of increasing strength the numbered cards \n",
    "        2-10, 11 Jack, 12 Queen, 13 King, and 14 Ace.\n",
    "        \"\"\"\n",
    "        suits = {\"H\", \"S\", \"C\", \"D\"}\n",
    "        return [Card(rank, suit) for rank in range(2,15) for suit in suits]"
   ]
  },
  {
   "cell_type": "code",
   "execution_count": 220,
   "metadata": {},
   "outputs": [
    {
     "name": "stdout",
     "output_type": "stream",
     "text": [
      "['10♠', 'J♠', 'A♣', '2♠', '2♣', '9♡', 'J♣', 'K♢', '8♢', 'Q♡', '3♢', '5♢', 'K♣', '5♠', '4♣', '10♢', '5♣', '7♡', 'Q♣', 'A♠', '8♣', '2♡', 'K♡', 'Q♢', '6♠', '3♡', '3♣', '6♢', '9♢', '6♡', '8♠', '7♢', '4♢', '7♠', 'J♢', 'K♠', 'Q♠', '10♣', 'A♢', '9♣', '10♡', '7♣', '9♠', '6♣', '5♡', 'J♡', '4♠', '2♢', '3♠', 'A♡', '8♡', '4♡']\n",
      "size of deck: 52\n",
      "give card: 10♠\n",
      "rest of cards: ['J♠', 'A♣', '2♠', '2♣', '9♡', 'J♣', 'K♢', '8♢', 'Q♡', '3♢', '5♢', 'K♣', '5♠', '4♣', '10♢', '5♣', '7♡', 'Q♣', 'A♠', '8♣', '2♡', 'K♡', 'Q♢', '6♠', '3♡', '3♣', '6♢', '9♢', '6♡', '8♠', '7♢', '4♢', '7♠', 'J♢', 'K♠', 'Q♠', '10♣', 'A♢', '9♣', '10♡', '7♣', '9♠', '6♣', '5♡', 'J♡', '4♠', '2♢', '3♠', 'A♡', '8♡', '4♡']\n"
     ]
    }
   ],
   "source": [
    "d = Deck()\n",
    "print(d)\n",
    "print(\"size of deck:\", d.size)\n",
    "print(\"give card:\", d.give_card())\n",
    "print(\"rest of cards:\", [str(c) for c in d.give_cards()])"
   ]
  },
  {
   "cell_type": "markdown",
   "metadata": {},
   "source": [
    "### Player class"
   ]
  },
  {
   "cell_type": "code",
   "execution_count": 221,
   "metadata": {},
   "outputs": [],
   "source": [
    "class Player(Hand):\n",
    "    def __init__(self, name, cards=[]):\n",
    "        super().__init__(cards)\n",
    "        self.name = name\n",
    "    \n",
    "    def __repr__(self): # Player('Pam', [Card(10,'H')])\n",
    "        return f\"Player({repr(self.name)}, {[c for c in self]})\"\n",
    "    \n",
    "    def __str__(self):  # <'Pam', ['10♡']>\n",
    "        return f\"<{repr(self.name)} has {[str(c) for c in self]}>\""
   ]
  },
  {
   "cell_type": "code",
   "execution_count": 222,
   "metadata": {},
   "outputs": [
    {
     "name": "stdout",
     "output_type": "stream",
     "text": [
      "<'Pam' has ['10♡']>\n"
     ]
    },
    {
     "data": {
      "text/plain": [
       "Player('Pam', [Card(10,'H')])"
      ]
     },
     "execution_count": 222,
     "metadata": {},
     "output_type": "execute_result"
    }
   ],
   "source": [
    "p = Player('Pam')\n",
    "p.receive_card(Card(10,'H'))\n",
    "print(p)\n",
    "p"
   ]
  },
  {
   "cell_type": "markdown",
   "metadata": {},
   "source": [
    "### Game class"
   ]
  },
  {
   "cell_type": "code",
   "execution_count": 223,
   "metadata": {},
   "outputs": [],
   "source": [
    "class Game():\n",
    "    def __init__(self, players):\n",
    "        self.players = players\n",
    "        self.deck = Deck()\n",
    "\n",
    "    def deal(self):\n",
    "        \"\"\" \n",
    "        Deal cards to both players. Each player takes one card at \n",
    "        a time from the deck.\n",
    "        \"\"\"\n",
    "        while self.deck.num_cards > 0:\n",
    "            for p in self.players:\n",
    "                p.receive_card(self.deck.give_card())\n",
    "\n",
    "    def turn(self, do_print=False):\n",
    "        \"\"\"\n",
    "        Get cards from both players. The player with the higher \n",
    "        rank takes all the cards in the pile.\n",
    "        \"\"\"\n",
    "        assert all(p.num_cards > 0 for p in self.players)\n",
    "        pile = [p.give_card() for p in self.players]\n",
    "   \n",
    "        # If there is a tie, get the next cards and add them to the\n",
    "        # top (front of) the cards pile, if any players still have cards\n",
    "        while pile[0] == pile[1] and all(p.num_cards > 0 for p in self.players):\n",
    "            if do_print: print(\"war:\", [str(c) for c in pile], \"TIE!\")\n",
    "            for i, p in enumerate(self.players):\n",
    "                pile.insert(i, p.give_card())\n",
    "        \n",
    "        if pile[0] == pile[1]:\n",
    "            # There is a tie, but at least one player ran out of cards,\n",
    "            # and that player loses.\n",
    "            winner = self.players[0] if self.players[0].num_cards > 0 else self.players[1]\n",
    "        else:\n",
    "            winner = self.players[0] if pile[0] > pile[1] else self.players[1]\n",
    "        winner.receive_cards(pile)\n",
    "        winner.shuffle()\n",
    "        if do_print: print(\"war:\", [str(c) for c in pile], \"=>\", winner.name)\n",
    "        return winner\n",
    "\n",
    "    def play(self, do_print=False):\n",
    "        \"\"\"\n",
    "        Keep taking turns until a player has won (has all 52 cards).\n",
    "        Return the winning player.\n",
    "        \"\"\"\n",
    "        self.deal()\n",
    "        if do_print: \n",
    "            for p in self.players: \n",
    "                print(\"at start\", p)\n",
    "                \n",
    "        while True:\n",
    "            winner = self.turn(do_print)\n",
    "            if winner.num_cards == self.deck.size:\n",
    "                break\n",
    "    \n",
    "        if do_print: print(winner.name + \" wins!\")\n",
    "        return winner\n",
    "        \n",
    "    def play_n_times(self, n):\n",
    "        for p in self.players:\n",
    "            p.wins = 0 #interesting! Add instance attribute on the fly\n",
    "\n",
    "        for i in range(n):\n",
    "            winner = self.play()\n",
    "            winner.wins += 1\n",
    "\n",
    "            # Return all cards players are holding back to the deck\n",
    "            for p in self.players:\n",
    "                self.deck.receive_cards(p.give_cards())\n",
    "            self.deck.shuffle()\n",
    "            self.deal()\n",
    "            \n",
    "        print(\"\\nPlayed\", n, \"hands\")\n",
    "        for p in self.players:\n",
    "            print(\"  \", p.name, \"wins:\", p.wins)"
   ]
  },
  {
   "cell_type": "markdown",
   "metadata": {},
   "source": [
    "### Let's try it out..."
   ]
  },
  {
   "cell_type": "code",
   "execution_count": 224,
   "metadata": {},
   "outputs": [
    {
     "name": "stdout",
     "output_type": "stream",
     "text": [
      "at start <'Amy' has ['A♡', '6♢', 'Q♡', '8♢', '2♡', 'A♠', '3♢', '9♡', 'K♢', '10♣', '9♠', '5♡', '10♢', '2♠', '8♡', '7♡', '9♣', 'Q♣', 'Q♢', '9♢', '3♠', '3♣', 'J♡', '7♠', 'K♡', '10♠']>\n",
      "at start <'Brad' has ['2♢', 'A♢', '5♢', 'J♠', '3♡', 'J♣', '7♢', '2♣', '8♠', '4♢', 'K♣', '6♣', '6♠', '6♡', '7♣', '4♡', '4♣', 'K♠', '5♠', '10♡', '4♠', 'A♣', 'Q♠', '8♣', '5♣', 'J♢']>\n",
      "war: ['A♡', '2♢'] => Amy\n",
      "war: ['A♡', 'A♢'] TIE!\n",
      "war: ['7♡', '5♢', 'A♡', 'A♢'] => Amy\n",
      "war: ['2♠', 'J♠'] => Brad\n",
      "war: ['K♡', '8♠'] => Amy\n",
      "war: ['3♢', 'J♣'] => Brad\n",
      "war: ['9♢', '3♢'] => Amy\n",
      "war: ['Q♢', '8♣'] => Amy\n",
      "war: ['7♠', 'K♠'] => Brad\n",
      "war: ['A♠', '6♠'] => Amy\n",
      "war: ['2♢', '6♡'] => Brad\n",
      "war: ['10♠', '7♢'] => Amy\n",
      "war: ['J♡', 'J♢'] TIE!\n",
      "war: ['7♢', 'J♣', 'J♡', 'J♢'] => Brad\n",
      "war: ['9♡', '3♡'] => Amy\n",
      "war: ['6♢', 'J♠'] => Brad\n",
      "war: ['A♢', 'J♡'] => Amy\n",
      "war: ['A♡', '4♣'] => Amy\n",
      "war: ['8♢', '2♣'] => Amy\n",
      "war: ['Q♢', '6♢'] => Amy\n",
      "war: ['Q♢', '5♣'] => Amy\n",
      "war: ['3♠', '4♢'] => Brad\n",
      "war: ['2♡', '4♠'] => Brad\n",
      "war: ['4♣', 'A♣'] => Brad\n",
      "war: ['8♢', '6♣'] => Amy\n",
      "war: ['3♣', '4♣'] => Brad\n",
      "war: ['9♢', '4♡'] => Amy\n",
      "war: ['5♢', '7♠'] => Brad\n",
      "war: ['8♣', 'K♣'] => Brad\n",
      "war: ['2♣', 'A♣'] => Brad\n",
      "war: ['Q♣', '2♢'] => Amy\n",
      "war: ['9♢', '2♣'] => Amy\n",
      "war: ['9♠', '4♣'] => Amy\n",
      "war: ['2♢', '4♠'] => Brad\n",
      "war: ['Q♡', 'K♣'] => Brad\n",
      "war: ['4♡', '4♠'] TIE!\n",
      "war: ['K♢', '7♠', '4♡', '4♠'] => Amy\n",
      "war: ['2♣', 'K♣'] => Brad\n",
      "war: ['3♡', 'A♣'] => Brad\n",
      "war: ['8♠', 'J♢'] => Brad\n",
      "war: ['5♣', 'A♣'] => Brad\n",
      "war: ['10♢', 'K♠'] => Brad\n",
      "war: ['9♡', 'A♣'] => Brad\n",
      "war: ['8♢', 'J♣'] => Brad\n",
      "war: ['A♠', 'J♣'] => Amy\n",
      "war: ['10♠', '4♢'] => Amy\n",
      "war: ['A♢', '10♡'] => Amy\n",
      "war: ['10♠', '7♣'] => Amy\n",
      "war: ['4♡', '7♢'] => Brad\n",
      "war: ['9♠', 'J♠'] => Brad\n",
      "war: ['K♡', 'K♣'] TIE!\n",
      "war: ['7♡', '8♢', 'K♡', 'K♣'] => Brad\n",
      "war: ['7♣', 'K♠'] => Brad\n",
      "war: ['A♠', '3♣'] => Amy\n",
      "war: ['5♡', 'Q♡'] => Brad\n",
      "war: ['10♡', 'Q♡'] => Brad\n",
      "war: ['3♢', 'K♣'] => Brad\n",
      "war: ['10♠', 'J♢'] => Brad\n",
      "war: ['4♣', 'A♣'] => Brad\n",
      "war: ['4♠', '5♢'] => Brad\n",
      "war: ['Q♢', '3♡'] => Amy\n",
      "war: ['J♣', 'K♣'] => Brad\n",
      "war: ['6♠', 'Q♡'] => Brad\n",
      "war: ['7♠', 'J♠'] => Brad\n",
      "war: ['A♢', '5♡'] => Amy\n",
      "war: ['4♢', '10♡'] => Brad\n",
      "war: ['10♣', '3♠'] => Amy\n",
      "war: ['10♣', '4♡'] => Amy\n",
      "war: ['3♡', '10♢'] => Brad\n",
      "war: ['A♡', '4♢'] => Amy\n",
      "war: ['Q♢', '4♠'] => Amy\n",
      "war: ['6♢', '7♣'] => Brad\n",
      "war: ['8♡', '3♢'] => Amy\n",
      "war: ['A♠', '2♡'] => Amy\n",
      "war: ['Q♢', '8♢'] => Amy\n",
      "war: ['K♢', '6♠'] => Amy\n",
      "war: ['Q♣', '2♣'] => Amy\n",
      "war: ['A♢', '6♡'] => Amy\n",
      "war: ['6♠', '3♡'] => Amy\n",
      "war: ['A♠', '7♠'] => Amy\n",
      "war: ['8♡', '5♣'] => Amy\n",
      "war: ['K♢', '6♢'] => Amy\n",
      "war: ['Q♣', 'J♣'] => Amy\n",
      "war: ['J♣', '7♣'] => Amy\n",
      "war: ['3♣', '2♠'] => Amy\n",
      "war: ['A♠', '2♢'] => Amy\n",
      "war: ['Q♢', '5♠'] => Amy\n",
      "war: ['3♣', '4♣'] => Brad\n",
      "war: ['Q♢', 'Q♠'] TIE!\n",
      "war: ['5♣', '8♣', 'Q♢', 'Q♠'] => Brad\n",
      "war: ['Q♣', '8♣'] => Amy\n",
      "war: ['A♠', 'Q♢'] => Amy\n",
      "war: ['6♠', '10♡'] => Brad\n",
      "war: ['9♣', '4♣'] => Amy\n",
      "war: ['4♠', 'K♣'] => Brad\n",
      "war: ['10♣', '5♣'] => Amy\n",
      "war: ['3♠', '7♡'] => Brad\n",
      "war: ['2♠', '9♠'] => Brad\n",
      "war: ['6♡', '10♡'] => Brad\n",
      "war: ['4♢', '8♠'] => Brad\n",
      "war: ['Q♣', '10♠'] => Amy\n",
      "war: ['J♡', 'J♢'] TIE!\n",
      "war: ['5♣', '3♣', 'J♡', 'J♢'] => Amy\n",
      "war: ['J♢', '5♢'] => Amy\n",
      "war: ['8♢', 'Q♡'] => Brad\n",
      "war: ['10♠', '9♠'] => Amy\n",
      "war: ['J♢', '10♡'] => Amy\n",
      "war: ['A♢', '7♢'] => Amy\n",
      "war: ['10♡', '2♠'] => Amy\n",
      "war: ['10♣', '8♢'] => Amy\n",
      "war: ['7♠', '9♡'] => Brad\n",
      "war: ['Q♣', '4♠'] => Amy\n",
      "war: ['7♢', 'Q♠'] => Brad\n",
      "war: ['3♣', 'A♣'] => Brad\n",
      "war: ['2♡', '6♠'] => Brad\n",
      "war: ['9♠', 'K♣'] => Brad\n",
      "war: ['Q♢', '3♠'] => Amy\n",
      "war: ['3♠', '7♡'] => Brad\n",
      "war: ['2♣', 'J♠'] => Brad\n",
      "war: ['3♢', 'Q♠'] => Brad\n",
      "war: ['A♠', 'A♣'] TIE!\n",
      "war: ['9♢', 'K♠', 'A♠', 'A♣'] => Brad\n",
      "war: ['Q♣', '7♠'] => Amy\n",
      "war: ['10♡', 'Q♡'] => Brad\n",
      "war: ['J♡', 'K♣'] => Brad\n",
      "war: ['2♠', '6♡'] => Brad\n",
      "war: ['10♠', 'K♣'] => Brad\n",
      "war: ['8♡', '9♡'] => Brad\n",
      "war: ['A♡', '4♢'] => Amy\n",
      "war: ['8♢', '3♢'] => Amy\n",
      "war: ['4♠', 'K♠'] => Brad\n",
      "war: ['7♣', 'J♡'] => Brad\n",
      "war: ['9♣', '9♢'] TIE!\n",
      "war: ['2♢', 'J♡', '9♣', '9♢'] => Brad\n",
      "war: ['6♣', 'K♠'] => Brad\n",
      "war: ['5♡', '8♡'] => Brad\n",
      "war: ['5♢', '9♢'] => Brad\n",
      "war: ['A♢', '3♣'] => Amy\n",
      "war: ['J♢', 'A♣'] => Brad\n",
      "war: ['4♣', 'J♠'] => Brad\n",
      "war: ['K♢', '2♡'] => Amy\n",
      "war: ['8♢', '6♡'] => Amy\n",
      "war: ['J♣', '7♢'] => Amy\n",
      "war: ['4♢', '9♡'] => Brad\n",
      "war: ['7♢', '2♢'] => Amy\n",
      "war: ['6♢', '10♠'] => Brad\n",
      "war: ['3♡', '7♣'] => Brad\n",
      "war: ['5♣', '10♡'] => Brad\n",
      "war: ['8♢', '9♣'] => Brad\n",
      "war: ['K♢', 'Q♡'] => Amy\n",
      "war: ['K♢', 'Q♠'] => Amy\n",
      "war: ['Q♠', 'K♣'] => Brad\n",
      "war: ['6♡', '10♢'] => Brad\n",
      "war: ['J♣', '10♡'] => Amy\n",
      "war: ['3♢', '9♢'] => Brad\n",
      "war: ['A♢', '9♣'] => Amy\n",
      "war: ['2♢', 'J♠'] => Brad\n",
      "war: ['Q♣', '2♠'] => Amy\n",
      "war: ['9♣', '4♣'] => Amy\n",
      "war: ['Q♡', 'K♣'] => Brad\n",
      "war: ['A♡', '9♠'] => Amy\n",
      "war: ['3♣', '5♣'] => Brad\n",
      "war: ['4♣', '5♢'] => Brad\n",
      "war: ['7♢', 'A♣'] => Brad\n",
      "war: ['Q♢', '6♣'] => Amy\n",
      "war: ['10♡', '8♡'] => Amy\n",
      "war: ['9♠', 'Q♠'] => Brad\n",
      "war: ['2♠', '2♣'] TIE!\n",
      "war: ['8♡', '4♠', '2♠', '2♣'] => Amy\n",
      "war: ['J♣', '5♣'] => Amy\n",
      "war: ['10♡', 'A♣'] => Brad\n",
      "war: ['A♡', '3♢'] => Amy\n",
      "war: ['8♡', '9♠'] => Brad\n",
      "war: ['2♣', '10♢'] => Brad\n",
      "war: ['2♡', '9♢'] => Brad\n",
      "war: ['A♢', '6♡'] => Amy\n",
      "war: ['5♣', '7♡'] => Brad\n",
      "war: ['2♠', '8♡'] => Brad\n",
      "war: ['6♣', 'K♣'] => Brad\n",
      "war: ['Q♣', '2♠'] => Amy\n",
      "war: ['A♡', '9♡'] => Amy\n",
      "war: ['3♢', '10♠'] => Brad\n",
      "war: ['4♠', 'K♠'] => Brad\n",
      "war: ['K♢', '5♣'] => Amy\n",
      "war: ['9♣', 'K♠'] => Brad\n",
      "war: ['9♡', '7♡'] => Amy\n",
      "war: ['10♣', '8♡'] => Amy\n",
      "war: ['Q♢', '4♢'] => Amy\n",
      "war: ['5♣', '10♠'] => Brad\n",
      "war: ['6♡', 'J♢'] => Brad\n",
      "war: ['8♣', '3♢'] => Amy\n",
      "war: ['Q♢', '4♣'] => Amy\n",
      "war: ['Q♣', '6♢'] => Amy\n",
      "war: ['7♡', '2♢'] => Amy\n",
      "war: ['2♠', '5♣'] => Brad\n",
      "war: ['6♢', '9♣'] => Brad\n",
      "war: ['K♢', '9♣'] => Amy\n",
      "war: ['2♢', 'Q♡'] => Brad\n",
      "war: ['J♣', '8♠'] => Amy\n",
      "war: ['3♢', 'K♠'] => Brad\n",
      "war: ['4♣', '5♢'] => Brad\n",
      "war: ['7♡', '6♣'] => Amy\n",
      "war: ['5♠', 'J♢'] => Brad\n",
      "war: ['4♢', 'K♡'] => Brad\n",
      "war: ['9♡', '5♡'] => Amy\n",
      "war: ['A♡', '5♣'] => Amy\n",
      "war: ['Q♢', '8♢'] => Amy\n",
      "war: ['9♣', '3♠'] => Amy\n",
      "war: ['8♢', '2♠'] => Amy\n",
      "war: ['J♣', '7♣'] => Amy\n",
      "war: ['5♣', '9♢'] => Brad\n",
      "war: ['A♢', '4♣'] => Amy\n",
      "war: ['J♣', '10♡'] => Amy\n",
      "war: ['7♣', '2♣'] => Amy\n",
      "war: ['2♠', '3♣'] => Brad\n",
      "war: ['7♣', '3♢'] => Amy\n",
      "war: ['8♠', '4♢'] => Amy\n",
      "war: ['8♠', '10♢'] => Brad\n",
      "war: ['4♡', '6♢'] => Brad\n",
      "war: ['2♣', '5♠'] => Brad\n",
      "war: ['K♢', '10♠'] => Amy\n",
      "war: ['3♠', '10♢'] => Brad\n",
      "war: ['10♠', '8♠'] => Amy\n",
      "war: ['Q♢', 'J♡'] => Amy\n",
      "war: ['8♠', 'A♠'] => Brad\n",
      "war: ['9♣', '9♠'] TIE!\n",
      "war: ['7♠', '8♠', '9♣', '9♠'] => Brad\n",
      "war: ['K♢', 'Q♠'] => Amy\n",
      "war: ['10♣', '5♠'] => Amy\n",
      "war: ['10♠', '6♡'] => Amy\n",
      "war: ['9♡', '5♢'] => Amy\n",
      "war: ['J♣', '9♣'] => Amy\n",
      "war: ['K♢', '4♡'] => Amy\n",
      "war: ['10♠', 'A♣'] => Brad\n",
      "war: ['5♠', 'J♢'] => Brad\n",
      "war: ['4♣', 'K♣'] => Brad\n",
      "war: ['9♡', '2♢'] => Amy\n",
      "war: ['8♡', 'K♠'] => Brad\n",
      "war: ['A♡', '8♠'] => Amy\n",
      "war: ['K♢', '3♠'] => Amy\n",
      "war: ['J♣', 'Q♡'] => Brad\n",
      "war: ['3♢', '2♡'] => Amy\n",
      "war: ['8♠', 'K♡'] => Brad\n",
      "war: ['10♡', 'A♠'] => Brad\n",
      "war: ['3♢', '4♠'] => Brad\n",
      "war: ['Q♢', '8♡'] => Amy\n",
      "war: ['8♡', '3♡'] => Amy\n",
      "war: ['6♣', 'K♠'] => Brad\n",
      "war: ['5♢', '7♠'] => Brad\n",
      "war: ['4♢', 'J♣'] => Brad\n",
      "war: ['4♡', 'J♠'] => Brad\n",
      "war: ['J♡', '6♣'] => Amy\n",
      "war: ['Q♠', 'J♣'] => Amy\n",
      "war: ['8♣', 'K♡'] => Brad\n",
      "war: ['8♢', 'A♣'] => Brad\n",
      "war: ['Q♣', '6♠'] => Amy\n",
      "war: ['6♠', '10♡'] => Brad\n",
      "war: ['3♡', 'Q♡'] => Brad\n",
      "war: ['A♡', 'K♡'] => Amy\n",
      "war: ['2♡', '4♡'] => Brad\n",
      "war: ['Q♠', '10♡'] => Amy\n",
      "war: ['10♡', 'J♢'] => Brad\n",
      "war: ['J♣', '10♡'] => Amy\n",
      "war: ['5♡', 'Q♡'] => Brad\n",
      "war: ['J♡', '8♠'] => Amy\n",
      "war: ['A♢', '5♣'] => Amy\n",
      "war: ['K♡', '5♠'] => Amy\n",
      "war: ['K♡', '6♠'] => Amy\n",
      "war: ['10♣', '10♢'] TIE!\n",
      "war: ['Q♠', '4♢', '10♣', '10♢'] => Amy\n",
      "war: ['7♡', 'K♠'] => Brad\n",
      "war: ['K♡', 'A♠'] => Brad\n",
      "war: ['6♠', 'Q♡'] => Brad\n",
      "war: ['Q♢', '6♠'] => Amy\n",
      "war: ['10♡', '6♢'] => Amy\n",
      "war: ['10♡', 'K♠'] => Brad\n",
      "war: ['6♠', 'K♠'] => Brad\n",
      "war: ['7♣', 'Q♡'] => Brad\n",
      "war: ['J♡', 'J♠'] TIE!\n",
      "war: ['A♡', '9♢', 'J♡', 'J♠'] => Amy\n",
      "war: ['6♣', '8♢'] => Brad\n",
      "war: ['5♠', '3♣'] => Amy\n",
      "war: ['K♢', 'Q♡'] => Amy\n",
      "war: ['J♠', 'A♠'] => Brad\n",
      "war: ['8♡', '7♡'] => Amy\n",
      "war: ['9♢', '7♣'] => Amy\n",
      "war: ['J♡', 'J♠'] TIE!\n",
      "war: ['J♣', '10♡', 'J♡', 'J♠'] => Amy\n",
      "war: ['Q♠', '3♢'] => Amy\n",
      "war: ['J♡', '9♠'] => Amy\n",
      "war: ['Q♡', '4♠'] => Amy\n",
      "war: ['J♣', '8♢'] => Amy\n",
      "war: ['J♠', '4♣'] => Amy\n",
      "war: ['Q♢', 'K♣'] => Brad\n",
      "war: ['7♣', '6♠'] => Amy\n",
      "war: ['Q♣', '2♡'] => Amy\n",
      "war: ['9♢', '4♡'] => Amy\n",
      "war: ['3♣', '5♢'] => Brad\n",
      "war: ['J♡', '10♠'] => Amy\n",
      "war: ['J♣', 'K♠'] => Brad\n",
      "war: ['2♡', '3♣'] => Brad\n",
      "war: ['Q♡', '5♡'] => Amy\n",
      "war: ['3♠', '2♡'] => Amy\n",
      "war: ['6♠', 'J♣'] => Brad\n",
      "war: ['2♢', '8♣'] => Brad\n",
      "war: ['7♡', '5♢'] => Amy\n",
      "war: ['J♠', '2♢'] => Amy\n",
      "war: ['3♠', '6♠'] => Brad\n",
      "war: ['J♡', '3♠'] => Amy\n",
      "war: ['J♠', '2♠'] => Amy\n",
      "war: ['2♡', '8♣'] => Brad\n",
      "war: ['A♡', '2♡'] => Amy\n",
      "war: ['8♢', 'Q♢'] => Brad\n",
      "war: ['9♢', 'K♠'] => Brad\n",
      "war: ['4♠', 'K♣'] => Brad\n",
      "war: ['5♢', 'A♠'] => Brad\n",
      "war: ['10♠', '5♢'] => Amy\n",
      "war: ['10♣', '2♣'] => Amy\n",
      "war: ['10♣', '6♠'] => Amy\n",
      "war: ['Q♣', 'K♣'] => Brad\n",
      "war: ['3♠', 'A♠'] => Brad\n",
      "war: ['6♢', '6♣'] TIE!\n",
      "war: ['9♣', '4♠', '6♢', '6♣'] => Amy\n",
      "war: ['5♠', '9♢'] => Brad\n",
      "war: ['7♣', '5♠'] => Amy\n",
      "war: ['4♣', 'Q♣'] => Brad\n",
      "war: ['A♡', 'A♠'] TIE!\n",
      "war: ['9♡', '8♢', 'A♡', 'A♠'] => Amy\n",
      "war: ['2♣', 'K♠'] => Brad\n",
      "war: ['5♣', 'K♣'] => Brad\n",
      "war: ['2♠', 'Q♢'] => Brad\n",
      "war: ['10♠', 'K♠'] => Brad\n",
      "war: ['5♠', '8♣'] => Brad\n",
      "war: ['6♢', 'Q♣'] => Brad\n",
      "war: ['K♢', 'Q♢'] => Amy\n",
      "war: ['4♠', 'A♣'] => Brad\n",
      "war: ['7♣', '6♢'] => Amy\n",
      "war: ['9♡', '7♠'] => Amy\n"
     ]
    },
    {
     "name": "stdout",
     "output_type": "stream",
     "text": [
      "war: ['Q♢', '3♡'] => Amy\n",
      "war: ['K♢', 'Q♣'] => Amy\n",
      "war: ['K♢', '3♣'] => Amy\n",
      "war: ['6♠', '9♢'] => Brad\n",
      "war: ['9♠', 'K♡'] => Brad\n",
      "war: ['8♠', '10♠'] => Brad\n",
      "war: ['2♡', '7♢'] => Brad\n",
      "war: ['8♢', 'A♣'] => Brad\n",
      "war: ['7♡', 'K♠'] => Brad\n",
      "war: ['Q♢', 'J♢'] => Amy\n",
      "war: ['3♡', '7♡'] => Brad\n",
      "war: ['5♢', '8♣'] => Brad\n",
      "war: ['6♣', '6♠'] TIE!\n",
      "war: ['K♢', 'K♡', '6♣', '6♠'] TIE!\n",
      "war: ['10♣', '8♣', 'K♢', 'K♡', '6♣', '6♠'] => Amy\n",
      "war: ['4♢', '4♣'] TIE!\n",
      "war: ['A♢', '8♠', '4♢', '4♣'] => Amy\n",
      "war: ['8♠', '7♡'] => Amy\n",
      "war: ['A♡', '2♣'] => Amy\n",
      "war: ['8♣', 'K♣'] => Brad\n",
      "war: ['4♢', '8♢'] => Brad\n",
      "war: ['A♡', '5♣'] => Amy\n",
      "war: ['6♡', '9♢'] => Brad\n",
      "war: ['J♡', '8♢'] => Amy\n",
      "war: ['10♢', '5♠'] => Amy\n",
      "war: ['J♠', 'J♣'] TIE!\n",
      "war: ['7♠', 'K♠', 'J♠', 'J♣'] => Brad\n",
      "war: ['2♣', '4♢'] => Brad\n",
      "war: ['9♣', '5♢'] => Amy\n",
      "war: ['5♠', '8♣'] => Brad\n",
      "war: ['A♠', 'K♣'] => Amy\n",
      "war: ['5♢', '7♢'] => Brad\n",
      "war: ['6♢', 'K♠'] => Brad\n",
      "war: ['9♣', '3♠'] => Amy\n",
      "war: ['J♡', '6♡'] => Amy\n",
      "war: ['7♡', '6♢'] => Amy\n",
      "war: ['2♢', '5♠'] => Brad\n",
      "war: ['3♢', '3♡'] TIE!\n",
      "war: ['5♡', '8♣', '3♢', '3♡'] => Brad\n",
      "war: ['4♣', '2♠'] => Amy\n",
      "war: ['K♡', '3♢'] => Amy\n",
      "war: ['10♣', '2♡'] => Amy\n",
      "war: ['J♡', '4♢'] => Amy\n",
      "war: ['K♣', '7♢'] => Amy\n",
      "war: ['2♠', '2♢'] TIE!\n",
      "war: ['10♣', 'J♣', '2♠', '2♢'] => Brad\n",
      "war: ['6♠', '10♣'] => Brad\n",
      "war: ['J♡', '6♠'] => Amy\n",
      "war: ['6♡', '3♡'] => Amy\n",
      "war: ['6♢', '2♠'] => Amy\n",
      "war: ['2♠', '5♢'] => Brad\n",
      "war: ['Q♡', '5♡'] => Amy\n",
      "war: ['5♡', 'A♣'] => Brad\n",
      "war: ['8♢', '4♠'] => Amy\n",
      "war: ['3♡', 'K♠'] => Brad\n",
      "war: ['A♢', '5♡'] => Amy\n",
      "war: ['6♣', '10♣'] => Brad\n",
      "war: ['K♣', '5♢'] => Amy\n",
      "war: ['8♠', '8♣'] TIE!\n",
      "war: ['3♢', '10♣', '8♠', '8♣'] => Brad\n",
      "war: ['Q♣', '10♠'] => Amy\n",
      "war: ['J♢', 'J♣'] TIE!\n",
      "war: ['10♢', 'A♣', 'J♢', 'J♣'] => Brad\n",
      "war: ['A♡', 'J♢'] => Amy\n",
      "war: ['9♡', '3♢'] => Amy\n",
      "war: ['6♡', '10♣'] => Brad\n",
      "war: ['6♢', '7♠'] => Brad\n",
      "war: ['7♢', '6♢'] => Amy\n",
      "war: ['6♢', 'K♠'] => Brad\n",
      "war: ['K♣', '9♢'] => Amy\n",
      "war: ['4♢', '5♠'] => Brad\n",
      "war: ['3♣', 'J♠'] => Brad\n",
      "war: ['3♢', '7♠'] => Brad\n",
      "war: ['9♡', '2♠'] => Amy\n",
      "war: ['4♠', '10♢'] => Brad\n",
      "war: ['9♡', '4♠'] => Amy\n",
      "war: ['8♢', '2♣'] => Amy\n",
      "war: ['A♡', '9♠'] => Amy\n",
      "war: ['9♣', '3♡'] => Amy\n",
      "war: ['8♡', '10♣'] => Brad\n",
      "war: ['5♡', '10♢'] => Brad\n",
      "war: ['K♡', '10♢'] => Amy\n",
      "war: ['J♢', '5♠'] => Amy\n",
      "war: ['K♢', '3♢'] => Amy\n",
      "war: ['4♣', '8♣'] => Brad\n",
      "war: ['2♠', '8♡'] => Brad\n",
      "war: ['A♢', '3♣'] => Amy\n",
      "war: ['Q♠', '6♢'] => Amy\n",
      "war: ['3♣', 'K♠'] => Brad\n",
      "war: ['9♣', 'J♠'] => Brad\n",
      "war: ['10♢', '8♠'] => Amy\n",
      "war: ['2♣', '7♠'] => Brad\n",
      "war: ['J♢', 'J♣'] TIE!\n",
      "war: ['7♡', '4♢', 'J♢', 'J♣'] => Amy\n",
      "war: ['Q♡', '8♣'] => Amy\n",
      "war: ['9♢', 'K♠'] => Brad\n",
      "war: ['7♢', '4♣'] => Amy\n",
      "war: ['Q♡', 'J♠'] => Amy\n",
      "war: ['4♠', '6♣'] => Brad\n",
      "war: ['10♡', '2♢'] => Amy\n",
      "war: ['4♢', '7♠'] => Brad\n",
      "war: ['10♢', '4♠'] => Amy\n",
      "war: ['6♢', '8♡'] => Brad\n",
      "war: ['5♣', '9♢'] => Brad\n",
      "war: ['3♡', '10♣'] => Brad\n",
      "war: ['3♢', 'A♣'] => Brad\n",
      "war: ['7♡', '5♡'] => Amy\n",
      "war: ['4♣', '8♡'] => Brad\n",
      "war: ['8♢', '5♣'] => Amy\n",
      "war: ['9♠', '6♡'] => Amy\n",
      "war: ['5♣', '4♣'] => Amy\n",
      "war: ['7♢', '9♣'] => Brad\n",
      "war: ['9♡', '2♠'] => Amy\n",
      "war: ['K♣', '6♢'] => Amy\n",
      "war: ['5♡', '7♢'] => Brad\n",
      "war: ['3♠', '7♢'] => Brad\n",
      "war: ['Q♣', '3♣'] => Amy\n",
      "war: ['4♣', '3♡'] => Amy\n",
      "war: ['A♡', '10♣'] => Amy\n",
      "war: ['3♡', '6♣'] => Brad\n",
      "war: ['2♡', '9♣'] => Brad\n",
      "war: ['9♠', '3♠'] => Amy\n",
      "war: ['6♢', '9♣'] => Brad\n",
      "war: ['9♠', '3♢'] => Amy\n",
      "war: ['4♠', '5♡'] => Brad\n",
      "war: ['A♡', '6♣'] => Amy\n",
      "war: ['6♣', '9♣'] => Brad\n",
      "war: ['K♢', '4♢'] => Amy\n",
      "war: ['5♠', '8♡'] => Brad\n",
      "war: ['6♠', '9♢'] => Brad\n",
      "war: ['Q♠', '6♣'] => Amy\n",
      "war: ['J♢', '3♡'] => Amy\n",
      "war: ['2♢', '5♠'] => Brad\n",
      "war: ['4♣', '4♠'] TIE!\n",
      "war: ['Q♣', '5♠', '4♣', '4♠'] => Amy\n",
      "war: ['9♡', '6♢'] => Amy\n",
      "war: ['5♠', 'K♠'] => Brad\n",
      "war: ['J♠', '7♠'] => Amy\n",
      "war: ['A♠', '9♢'] => Amy\n",
      "war: ['3♢', '7♢'] => Brad\n",
      "war: ['7♠', '8♡'] => Brad\n",
      "war: ['Q♣', '5♡'] => Amy\n",
      "war: ['8♢', 'A♣'] => Brad\n",
      "war: ['J♢', '6♠'] => Amy\n",
      "war: ['5♡', '2♢'] => Amy\n",
      "war: ['4♠', '9♣'] => Brad\n",
      "war: ['Q♣', '8♢'] => Amy\n",
      "war: ['A♡', 'A♣'] TIE!\n",
      "war: ['Q♠', '8♡', 'A♡', 'A♣'] => Amy\n",
      "war: ['8♢', '5♠'] => Amy\n",
      "war: ['J♣', '2♣'] => Amy\n",
      "war: ['2♢', '9♣'] => Brad\n",
      "war: ['10♣', '3♢'] => Amy\n",
      "war: ['5♡', '7♠'] => Brad\n",
      "war: ['10♠', '9♣'] => Amy\n",
      "war: ['4♣', '5♡'] => Brad\n",
      "war: ['7♣', 'K♠'] => Brad\n",
      "war: ['10♠', 'K♠'] => Brad\n",
      "war: ['Q♢', '4♠'] => Amy\n",
      "war: ['J♠', '10♠'] => Amy\n",
      "war: ['10♠', '2♡'] => Amy\n",
      "war: ['10♠', '2♢'] => Amy\n",
      "war: ['J♢', '7♢'] => Amy\n",
      "war: ['2♢', '7♠'] => Brad\n",
      "war: ['K♣', 'K♠'] TIE!\n",
      "war: ['A♢', '7♣', 'K♣', 'K♠'] => Amy\n",
      "war: ['5♢', '5♡'] TIE!\n",
      "war: ['K♣', '2♢', '5♢', '5♡'] => Amy\n",
      "war: ['J♡', '4♣'] => Amy\n",
      "war: ['J♡', '7♠'] => Amy\n",
      "Amy wins!\n"
     ]
    },
    {
     "data": {
      "text/plain": [
       "Player('Amy', [Card(5,'D'), Card(13,'H'), Card(6,'D'), Card(6,'H'), Card(8,'S'), Card(9,'S'), Card(7,'D'), Card(4,'C'), Card(10,'H'), Card(2,'D'), Card(9,'H'), Card(2,'C'), Card(14,'S'), Card(3,'S'), Card(10,'C'), Card(5,'S'), Card(3,'D'), Card(11,'S'), Card(10,'D'), Card(9,'D'), Card(3,'C'), Card(3,'H'), Card(13,'S'), Card(7,'S'), Card(5,'H'), Card(12,'S'), Card(8,'C'), Card(6,'C'), Card(7,'H'), Card(14,'D'), Card(14,'H'), Card(14,'C'), Card(13,'D'), Card(11,'H'), Card(12,'H'), Card(7,'C'), Card(2,'S'), Card(12,'C'), Card(8,'D'), Card(4,'S'), Card(4,'H'), Card(8,'H'), Card(11,'C'), Card(4,'D'), Card(6,'S'), Card(5,'C'), Card(2,'H'), Card(10,'S'), Card(9,'C'), Card(13,'C'), Card(12,'D'), Card(11,'D')])"
      ]
     },
     "execution_count": 224,
     "metadata": {},
     "output_type": "execute_result"
    }
   ],
   "source": [
    "game = Game([Player(\"Amy\"), Player(\"Brad\")])\n",
    "game.play(do_print = True)"
   ]
  },
  {
   "cell_type": "markdown",
   "metadata": {},
   "source": [
    "## Many games\n",
    "Let's extend so we can run many games and see who wins the most."
   ]
  },
  {
   "cell_type": "code",
   "execution_count": 225,
   "metadata": {},
   "outputs": [
    {
     "name": "stdout",
     "output_type": "stream",
     "text": [
      "\n",
      "Played 3 hands\n",
      "   Amy wins: 2\n",
      "   Brad wins: 1\n",
      "\n",
      "Played 30 hands\n",
      "   Amy wins: 14\n",
      "   Brad wins: 16\n",
      "\n",
      "Played 100 hands\n",
      "   Amy wins: 55\n",
      "   Brad wins: 45\n"
     ]
    }
   ],
   "source": [
    "game = Game([Player(\"Amy\"), Player(\"Brad\")])\n",
    "game.play_n_times(3)\n",
    "game.play_n_times(30)\n",
    "game.play_n_times(100)"
   ]
  },
  {
   "cell_type": "markdown",
   "metadata": {},
   "source": [
    "### Try with more than two players"
   ]
  },
  {
   "cell_type": "code",
   "execution_count": null,
   "metadata": {
    "scrolled": true
   },
   "outputs": [],
   "source": [
    "game = Game([Player(\"Amy\"), Player(\"Brad\"), Player(\"Carl\")])\n",
    "game.play_n_times(3)\n",
    "game.play_n_times(30)\n",
    "game.play_n_times(100)"
   ]
  },
  {
   "cell_type": "markdown",
   "metadata": {},
   "source": [
    "Oops. We hard coded the game to only expect two players! We'll leave it as an exercise for the reader to go back and generalize `Game` to fix."
   ]
  }
 ],
 "metadata": {
  "kernelspec": {
   "display_name": "Python 3",
   "language": "python",
   "name": "python3"
  },
  "language_info": {
   "codemirror_mode": {
    "name": "ipython",
    "version": 3
   },
   "file_extension": ".py",
   "mimetype": "text/x-python",
   "name": "python",
   "nbconvert_exporter": "python",
   "pygments_lexer": "ipython3",
   "version": "3.6.9"
  }
 },
 "nbformat": 4,
 "nbformat_minor": 2
}
