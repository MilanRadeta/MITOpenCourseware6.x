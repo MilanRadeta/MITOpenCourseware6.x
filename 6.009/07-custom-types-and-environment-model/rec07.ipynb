{
 "cells": [
  {
   "cell_type": "markdown",
   "metadata": {},
   "source": [
    "## Object-Oriented Design: War Card Game\n",
    "\n",
    "Now let's design a card game. If you've never played War before (or if you have), \n",
    "here's the variant of the game that we will play. The\n",
    "deck is split evenly between two players. On each turn, both players\n",
    "reveal their first cards. The player showing the card with the highest rank takes both\n",
    "cards and adds them to his or her deck and reshuffles his or her hand. If there is a tie, the players\n",
    "reveal their next cards. If there is no longer a tie, the player with\n",
    "the highest rank takes all four cards on the revealed stack into their hand (and reshuffles their hand). \n",
    "Otherwise, both players continue revealing their next cards until the tie is broken. \n",
    "The game continues until one player has collected all 52 cards.\n",
    "\n",
    "What classes and methods do we need? Each card has a rank and a suit,\n",
    "so it makes sense to make a **Card** class with these attributes. In our\n",
    "game, \"greater\" cards are those with higher rank; cards with the same\n",
    "rank are \"equal\", no matter what suit they come from.\n",
    "\n",
    "A **Hand** is a collection of Cards, so we'll make that another class. We can give\n",
    "and take cards from a Hand and also shuffle the cards in a Hand. We'll\n",
    "want to know how many Cards are in a Hand, so we'll need a `num_cards` method,\n",
    "among others.\n",
    "\n",
    "A **Deck** is a special kind of Hand, populated with (in our case) the \n",
    "standard 52 cards. We can `deal` cards from a Deck.\n",
    "\n",
    "A **Player** is also a Hand of cards, but with a (person) name also.\n",
    "\n",
    "Finally, the **Game** class implements all of the game logic. This class\n",
    "implements methods for dealing hands, taking a turn, and playing a\n",
    "game to determine a winner."
   ]
  },
  {
   "cell_type": "markdown",
   "metadata": {},
   "source": [
    "### Card class"
   ]
  },
  {
   "cell_type": "code",
   "execution_count": null,
   "metadata": {},
   "outputs": [],
   "source": [
    "class Card():\n",
    "    def __init__(self, rank, suit):\n",
    "        \"\"\" rank: integer from 2 to (including) 14\n",
    "            suit: 'S' for Spades, or 'H' for Hearts, \n",
    "                  or 'C' for Clubs, or 'D' for Diamonds\n",
    "        \"\"\"\n",
    "        assert suit in {'S', 'H', 'C', 'D'}\n",
    "        assert rank in range(2,15)\n",
    "        self.rank = rank\n",
    "        self.suit = suit\n",
    "        \n",
    "    suit_str = {'S': \"\\u2660\", 'H': \"\\u2661\", 'C': \"\\u2663\", 'D': \"\\u2662\"}\n",
    "    rank_str = {n: str(n) for n in range(2,11)}\n",
    "    rank_str[11] = 'J'; rank_str[12] = 'Q'; rank_str[13] = 'K'; rank_str[14] = 'A' \n",
    "    \n",
    "    def __str__(self): # '2♡'\n",
    "        return f\"{self.rank_str[self.rank]}{self.suit_str[self.suit]}\"\n",
    "    \n",
    "    def __repr__(self): # Card(2,'H')\n",
    "        return f\"Card({self.rank},'{self.suit}')\"\n",
    "    \n",
    "    def __gt__(self, other):\n",
    "        return self.rank > other.rank\n",
    "    \n",
    "    def __lt__(self, other):\n",
    "        return self.rank < other.rank\n",
    "    \n",
    "    def __eq__(self, other):\n",
    "        return self.rank == other.rank"
   ]
  },
  {
   "cell_type": "markdown",
   "metadata": {},
   "source": [
    "Creating Cards, and their repr and str representations:"
   ]
  },
  {
   "cell_type": "code",
   "execution_count": null,
   "metadata": {},
   "outputs": [],
   "source": [
    "Card(2,'H') #new instance of Card"
   ]
  },
  {
   "cell_type": "code",
   "execution_count": null,
   "metadata": {},
   "outputs": [],
   "source": [
    "repr(Card(2,'H'))"
   ]
  },
  {
   "cell_type": "code",
   "execution_count": null,
   "metadata": {},
   "outputs": [],
   "source": [
    "str(Card(2,'H'))"
   ]
  },
  {
   "cell_type": "markdown",
   "metadata": {},
   "source": [
    "Card comparisons -- based on rank, not suit:"
   ]
  },
  {
   "cell_type": "code",
   "execution_count": null,
   "metadata": {},
   "outputs": [],
   "source": [
    "Card(2,'H') == Card(2,'S') #want True"
   ]
  },
  {
   "cell_type": "code",
   "execution_count": null,
   "metadata": {},
   "outputs": [],
   "source": [
    "Card(2,'H') > Card(7,'S') #want False"
   ]
  },
  {
   "cell_type": "code",
   "execution_count": null,
   "metadata": {},
   "outputs": [],
   "source": [
    "Card(2,'H') < Card(7,'S') #want True"
   ]
  },
  {
   "cell_type": "markdown",
   "metadata": {},
   "source": [
    "Some customized notions of equality:"
   ]
  },
  {
   "cell_type": "code",
   "execution_count": null,
   "metadata": {},
   "outputs": [],
   "source": [
    "Card(2,'H') is Card(2,'H') #want False; different instances"
   ]
  },
  {
   "cell_type": "code",
   "execution_count": null,
   "metadata": {},
   "outputs": [],
   "source": [
    "Card(2,'H') == Card(2,'H') #want True; based on rank"
   ]
  },
  {
   "cell_type": "code",
   "execution_count": null,
   "metadata": {},
   "outputs": [],
   "source": [
    "Card(2,'H') == Card(2,'S') #want True; based on rank"
   ]
  },
  {
   "cell_type": "markdown",
   "metadata": {},
   "source": [
    "By implementing <, >, ==, we gain a powerful ability to use many Python built-in functions, like `max`, `min`, `sorted`, etc.!"
   ]
  },
  {
   "cell_type": "code",
   "execution_count": null,
   "metadata": {},
   "outputs": [],
   "source": [
    "cards = [Card(3,'S'), Card(14,'D'), Card(10,'D'), Card(14,'H')]\n",
    "print(\"cards:\", cards) # note: str(<list>) creates a string of the list of <repr of list elements>\n",
    "print(\"max:\", max(cards))\n",
    "print(\"min:\", min(cards))\n",
    "print(\"position of max card:\", cards.index(max(cards)))\n",
    "print(\"regular sorted:\", [str(c) for c in sorted(cards)])\n",
    "print(\"reverse sorted:\", [str(c) for c in sorted(cards, reverse=True)])"
   ]
  },
  {
   "cell_type": "markdown",
   "metadata": {},
   "source": [
    "### Hand class"
   ]
  },
  {
   "cell_type": "code",
   "execution_count": null,
   "metadata": {},
   "outputs": [],
   "source": [
    "import random\n",
    "class Hand():\n",
    "    def __init__(self, cards=[]):\n",
    "        self.cards = [] #avoid aliasing; receive_cards into new empty list\n",
    "        self.receive_cards(cards)\n",
    "\n",
    "    def receive_cards(self, cards):\n",
    "        \"\"\" Receive cards into hand \"\"\"\n",
    "        self.cards.extend(cards)\n",
    "    \n",
    "    def receive_card(self, card):\n",
    "        \"\"\" Receive single card into bottom of hand \"\"\"\n",
    "        self.receive_cards([card])\n",
    "    \n",
    "    def shuffle(self):\n",
    "        \"\"\" Shuffle the deck by rearranging the cards in random order. \"\"\"\n",
    "        if self.cards:\n",
    "            random.shuffle(self.cards)\n",
    "\n",
    "    def give_card(self):\n",
    "        \"\"\" Remove and return the card at the top of the hand. \"\"\"\n",
    "        assert self.num_cards > 0\n",
    "        return self.cards.pop(0)\n",
    "    \n",
    "    def give_cards(self):\n",
    "        \"\"\" Remove and yield cards from the top of the hand, until\n",
    "            there are no more cards \"\"\"\n",
    "        while len(self.cards) > 0:\n",
    "            yield self.cards.pop(0)\n",
    "    \n",
    "    @property\n",
    "    def num_cards(self):\n",
    "        return len(self.cards)\n",
    "\n",
    "    def __iter__(self):\n",
    "        \"\"\" Iterator over the cards in the hand. Does not remove\n",
    "            the cards from the hand. \"\"\"\n",
    "        yield from self.cards\n",
    "\n",
    "    def __repr__(self): # Hand([Card(2,'S')])\n",
    "        return f\"Hand({self.cards})\"\n",
    "    \n",
    "    def __str__(self): # ['2♠']\n",
    "        return str([str(card) for card in self.cards])"
   ]
  },
  {
   "cell_type": "code",
   "execution_count": null,
   "metadata": {},
   "outputs": [],
   "source": [
    "h = Hand()\n",
    "h.receive_card(Card(2,'S'))\n",
    "h.receive_cards([Card(13,'H'), Card(7,'C')])\n",
    "print(\"hand:\", h)\n",
    "print(\"num_cards:\", h.num_cards) #instead of h.num_cards()\n",
    "print(\"give card:\", h.give_card())\n",
    "print(\"rest of cards:\", [str(c) for c in h.give_cards()])\n",
    "h"
   ]
  },
  {
   "cell_type": "markdown",
   "metadata": {},
   "source": [
    "### Deck class"
   ]
  },
  {
   "cell_type": "code",
   "execution_count": null,
   "metadata": {},
   "outputs": [],
   "source": [
    "class Deck(Hand):\n",
    "    def __init__(self):\n",
    "        super().__init__(Deck.build_deck())\n",
    "        self.size = self.num_cards\n",
    "        self.shuffle()\n",
    "\n",
    "    @staticmethod\n",
    "    def build_deck():\n",
    "        \"\"\"\n",
    "        Return a list of 52 cards, as in a standard deck.\n",
    "\n",
    "        Suits are \"H\" (Hearts), \"S\" (Spades), \"C\" (Clubs), \"D\" (Diamonds).\n",
    "        Ranks in order of increasing strength the numbered cards \n",
    "        2-10, 11 Jack, 12 Queen, 13 King, and 14 Ace.\n",
    "        \"\"\"\n",
    "        suits = {\"H\", \"S\", \"C\", \"D\"}\n",
    "        return [Card(rank, suit) for rank in range(2,15) for suit in suits]"
   ]
  },
  {
   "cell_type": "code",
   "execution_count": null,
   "metadata": {},
   "outputs": [],
   "source": [
    "d = Deck()\n",
    "print(d)\n",
    "print(\"size of deck:\", d.size)\n",
    "print(\"give card:\", d.give_card())\n",
    "print(\"rest of cards:\", [str(c) for c in d.give_cards()])"
   ]
  },
  {
   "cell_type": "markdown",
   "metadata": {},
   "source": [
    "### Player class"
   ]
  },
  {
   "cell_type": "code",
   "execution_count": null,
   "metadata": {},
   "outputs": [],
   "source": [
    "class Player(Hand):\n",
    "    def __init__(self, name, cards=[]):\n",
    "        super().__init__(cards)\n",
    "        self.name = name\n",
    "      \n",
    "    def __repr__(self): # Player('Pam', [Card(10,'H')])\n",
    "        return f\"Player({repr(self.name)}, {self.cards})\"\n",
    "    \n",
    "    def __str__(self):  # Player('Pam', ['10♡'])\n",
    "        return f\"<{repr(self.name)} has {[str(c) for c in self.cards]}>\""
   ]
  },
  {
   "cell_type": "code",
   "execution_count": null,
   "metadata": {},
   "outputs": [],
   "source": [
    "p = Player('Pam')\n",
    "p.receive_card(Card(10,'H'))\n",
    "print(p)\n",
    "p"
   ]
  },
  {
   "cell_type": "markdown",
   "metadata": {},
   "source": [
    "### Game class"
   ]
  },
  {
   "cell_type": "code",
   "execution_count": null,
   "metadata": {},
   "outputs": [],
   "source": [
    "class Game():\n",
    "    def __init__(self, players):\n",
    "        self.players = players\n",
    "        self.deck = Deck()\n",
    "\n",
    "    def deal(self):\n",
    "        \"\"\" \n",
    "        Deal cards to both players. Each player takes one card at \n",
    "        a time from the deck.\n",
    "        \"\"\"\n",
    "        while self.deck.num_cards > 0:\n",
    "            for p in self.players:\n",
    "                if self.deck.num_cards > 0:\n",
    "                    p.receive_card(self.deck.give_card())\n",
    "                else:\n",
    "                    return\n",
    "    \n",
    "    def turn(self, do_print=False):\n",
    "        \"\"\"\n",
    "        Get cards from both players. The player with the higher \n",
    "        rank takes all the cards in the pile.\n",
    "        \"\"\"\n",
    "        assert len([p for p in self.players if p.num_cards > 0]) > 1\n",
    "\n",
    "        prev_in_play = [p for p in self.players if p.num_cards > 0]\n",
    "        last_cards = [p.give_card() for p in prev_in_play]\n",
    "        in_play = [p for p in self.players if p.num_cards > 0]\n",
    "        pile = last_cards\n",
    "            \n",
    "   \n",
    "        # If there is a tie, get the next cards and add them to the\n",
    "        # top (front of) the cards pile, if any players still have cards\n",
    "        while len(in_play) > 1 and last_cards.count(max(last_cards)) > 1:\n",
    "            if do_print: print(\"war:\", [str(c) for c in pile], \"TIE!\")\n",
    "            prev_in_play = in_play\n",
    "            last_cards = [p.give_card() for p in self.players if p.num_cards > 0]\n",
    "            in_play = [p for p in self.players if p.num_cards > 0]\n",
    "            pile += last_cards\n",
    "        \n",
    "        if len(in_play) == 1:\n",
    "            # There is a tie, but at least one player ran out of cards,\n",
    "            # and that player loses.\n",
    "            winner = in_play[0]\n",
    "        else:\n",
    "            winner = prev_in_play[last_cards.index(max(last_cards))]\n",
    "        #winner gets pile, and shuffles hand\n",
    "        winner.receive_cards(pile)\n",
    "        winner.shuffle()\n",
    "\n",
    "        \n",
    "        if do_print: print(\"war:\", [str(c) for c in pile], \"=>\", winner.name)\n",
    "\n",
    "            \n",
    "    def play(self, do_print=False):\n",
    "        \"\"\"\n",
    "        Keep taking turns until a player has won (has all 52 cards).\n",
    "        Return the winning player.\n",
    "        \"\"\"\n",
    "        self.deal()\n",
    "        if do_print: \n",
    "            for p in self.players: \n",
    "                print(\"at start\", p)\n",
    "                \n",
    "        in_play = [p for p in self.players if p.num_cards > 0]\n",
    "        while len(in_play) > 1:\n",
    "            self.turn(do_print)\n",
    "            in_play = [p for p in self.players if p.num_cards > 0]\n",
    "    \n",
    "        #decide and return winner (player object)\n",
    "        p = in_play[0]\n",
    "        if do_print: print(p.name + \" wins!\")\n",
    "\n",
    "        return p\n",
    "        \n",
    "    def play_n_times(self, n, do_print=False):\n",
    "        for p in self.players:\n",
    "            p.wins = 0 #interesting! Add instance attribute on the fly\n",
    "\n",
    "        for i in range(n):\n",
    "            self.play(do_print).wins += 1\n",
    "\n",
    "            # Return all cards players are holding back to the deck\n",
    "            for p in self.players:\n",
    "                self.deck.receive_cards(p.give_cards())\n",
    "            self.deck.shuffle()\n",
    "            self.deal()\n",
    "        \n",
    "        print(\"\\nPlayed\", n, \"hands\")\n",
    "        for p in self.players:\n",
    "            print(\"  \", p.name, \"wins:\", p.wins)"
   ]
  },
  {
   "cell_type": "markdown",
   "metadata": {},
   "source": [
    "### Let's try it out..."
   ]
  },
  {
   "cell_type": "code",
   "execution_count": null,
   "metadata": {
    "tags": []
   },
   "outputs": [],
   "source": [
    "game = Game([Player(\"Amy\"), Player(\"Brad\")])\n",
    "game.play(do_print = True)"
   ]
  },
  {
   "cell_type": "markdown",
   "metadata": {},
   "source": [
    "## Many games\n",
    "Let's extend so we can run many games and see who wins the most."
   ]
  },
  {
   "cell_type": "code",
   "execution_count": null,
   "metadata": {
    "tags": []
   },
   "outputs": [],
   "source": [
    "game = Game([Player(\"Amy\"), Player(\"Brad\")])\n",
    "game.play_n_times(3)\n",
    "game.play_n_times(30)\n",
    "game.play_n_times(100)"
   ]
  },
  {
   "cell_type": "markdown",
   "metadata": {},
   "source": [
    "### Try with more than two players"
   ]
  },
  {
   "cell_type": "code",
   "execution_count": null,
   "metadata": {
    "scrolled": true,
    "tags": []
   },
   "outputs": [],
   "source": [
    "game = Game([Player(\"Amy\"), Player(\"Brad\"), Player(\"Carl\"), Player(\"John\")])\n",
    "game.play_n_times(3)\n",
    "game.play_n_times(30)\n",
    "game.play_n_times(100)"
   ]
  },
  {
   "cell_type": "markdown",
   "metadata": {},
   "source": [
    "Oops. We hard coded the game to only expect two players! We'll leave it as an exercise for the reader to go back and generalize `Game` to fix."
   ]
  }
 ],
 "metadata": {
  "kernelspec": {
   "name": "python3",
   "display_name": "Python 3.8.2 64-bit",
   "metadata": {
    "interpreter": {
     "hash": "2db524e06e9f5f4ffedc911c917cb75e12dbc923643829bf417064a77eb14d37"
    }
   }
  },
  "language_info": {
   "codemirror_mode": {
    "name": "ipython",
    "version": 3
   },
   "file_extension": ".py",
   "mimetype": "text/x-python",
   "name": "python",
   "nbconvert_exporter": "python",
   "pygments_lexer": "ipython3",
   "version": "3.8.2-final"
  }
 },
 "nbformat": 4,
 "nbformat_minor": 2
}