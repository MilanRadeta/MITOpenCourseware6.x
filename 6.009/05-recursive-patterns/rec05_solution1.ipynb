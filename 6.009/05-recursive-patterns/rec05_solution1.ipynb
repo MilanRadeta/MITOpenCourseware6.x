{
 "cells": [
  {
   "cell_type": "markdown",
   "metadata": {},
   "source": [
    "# Tent Packing"
   ]
  },
  {
   "cell_type": "code",
   "execution_count": 1,
   "metadata": {
    "collapsed": true
   },
   "outputs": [],
   "source": [
    "from instrument import instrument"
   ]
  },
  {
   "cell_type": "code",
   "execution_count": 2,
   "metadata": {
    "collapsed": true
   },
   "outputs": [],
   "source": [
    "# Pack a tent with different sleeping bag shapes leaving no empty squares\n",
    "#\n",
    "# INPUTS:\n",
    "#   tent_size = (rows, cols) for tent grid\n",
    "#   missing_squares = set of (r, c) tuples giving location of rocks\n",
    "#   bag_list = list of sets, each decribing a sleeping bag shape\n",
    "#      Each set contains (r, c) tuples enumerating contiguous grid\n",
    "#      squares occupied by the bag, coords are relative to the upper-\n",
    "#      left corner of the bag.  You can assume every bag occupies\n",
    "#      at least the grid (0,0).\n",
    "#\n",
    "# Example bag_list entries:\n",
    "#      vertical 3x1 bag: { (0,0), (1,0), (2,0) }\n",
    "#      horizontal 1x3 bag: { (0,0), (0,1), (0,2) }\n",
    "#      square bag: { (0,0), (0,1), (1,0), (1,1) }\n",
    "#      L-shaped bag: { (0,0), (1,0), (1,1) }\n",
    "#      C-shaped bag: { (0,0), (0,1), (1,0), (2,0), (2,1) }\n",
    "#      reverse-C-shaped bag: { (0,0), (0,1), (1,1), (2,0), (2,1) }\n",
    "#\n",
    "# OUTPUT:\n",
    "#   None if no packing can be found; otherwise a list giving the\n",
    "#   placement and type for each placed bag expressed as a dictionary\n",
    "#   with keys\n",
    "#     \"anchor\": (r, c) for upper-left corner of bag\n",
    "#     \"shape\": index of bag on bag list"
   ]
  },
  {
   "cell_type": "markdown",
   "metadata": {},
   "source": [
    "### Recursive Pattern: build on result of sub-problem"
   ]
  },
  {
   "cell_type": "code",
   "execution_count": 3,
   "metadata": {
    "collapsed": true
   },
   "outputs": [],
   "source": [
    "def pack(tent_size, missing_squares, bag_list):\n",
    "    all_squares = set((r, c) for r in range(tent_size[0])\n",
    "                                 for c in range(tent_size[1]))\n",
    "\n",
    "    def first_empty(covered_squares):\n",
    "        \"\"\" returns (r, c) for first empty square, else None if no empty squares \"\"\"\n",
    "        for row in range(tent_size[0]):\n",
    "            for col in range(tent_size[1]):\n",
    "                locn = (row, col)\n",
    "                if locn not in covered_squares:\n",
    "                    return locn\n",
    "        return None\n",
    "\n",
    "    @instrument\n",
    "    def helper(covered_squares):\n",
    "        \"\"\" input: set of covered squares (covered by rocks or bags)\n",
    "            output: None if no packing can be found, else a list of placed bags\"\"\"\n",
    "\n",
    "        # look for first empty square\n",
    "        locn = first_empty(covered_squares)\n",
    "\n",
    "        # base case: no empty squares! We return an empty (successful) packing.\n",
    "        if locn is None: \n",
    "            return []\n",
    "\n",
    "        # try placing each type of bag at locn: if it fits, consider those \n",
    "        # squares as covered and recursively solve resulting problem\n",
    "        row, col = locn\n",
    "        for b in range(len(bag_list)):\n",
    "            # compute set of squares occupied by bag b at locn\n",
    "            bag_squares = set((r+row, c+col) for r, c in bag_list[b])\n",
    "\n",
    "            # is bag in-bounds? if not, it doesn't fit here\n",
    "            if len(bag_squares - all_squares) != 0:\n",
    "                continue #try another bag\n",
    "\n",
    "            # are all of those bag squares free?\n",
    "            if len(bag_squares & covered_squares) > 0:\n",
    "                continue #try another bag\n",
    "                \n",
    "            # this bag fits; see if can pack the rest of the tent\n",
    "            result = helper(covered_squares | bag_squares)\n",
    "            if result is None:\n",
    "                continue #can't pack rest of tent; try another bag\n",
    "            else:\n",
    "                # Success! Found packing of subproblem; build solutio\n",
    "                result.append({\"anchor\": locn, \"shape\": b})\n",
    "                return result\n",
    "\n",
    "        # oops, no bags fit at this locn -- no valid packing\n",
    "        return None\n",
    "\n",
    "    # get things started\n",
    "    return helper(missing_squares)"
   ]
  },
  {
   "cell_type": "code",
   "execution_count": 4,
   "metadata": {},
   "outputs": [
    {
     "name": "stdout",
     "output_type": "stream",
     "text": [
      "[{'anchor': (0, 0), 'shape': 1}]\n"
     ]
    },
    {
     "name": "stderr",
     "output_type": "stream",
     "text": [
      "call to helper: set()\n",
      "   call to helper: {(0, 1), (0, 0), (0, 2)}\n",
      "   helper returns: []\n",
      "helper returns: [{'anchor': (0, 0), 'shape': 1}]\n"
     ]
    }
   ],
   "source": [
    "bag_list = [\n",
    "  { (0,0), (1,0), (2,0) },  # vertical 3x1 bag\n",
    "  { (0,0), (0,1), (0,2) },  # horizontal 1x3 bag\n",
    "  { (0,0), (0,1), (1,0), (1,1) }, # square bag\n",
    "  { (0,0), (1,0), (1,1) },  # L-shaped bag\n",
    "  { (0,0), (0,1), (1,0), (2,0), (2,1) },  # C-shaped bag\n",
    "  { (0,0), (0,1), (1,1), (2,0), (2,1) },  # reverse C-shaped bag\n",
    "]\n",
    "\n",
    "# horizontal bag in 1x3 tent, no rocks => fits\n",
    "tent_size = (1,3)\n",
    "rocks = set()\n",
    "print(pack(tent_size, rocks, bag_list))"
   ]
  },
  {
   "cell_type": "code",
   "execution_count": 5,
   "metadata": {},
   "outputs": [
    {
     "name": "stdout",
     "output_type": "stream",
     "text": [
      "[{'anchor': (0, 0), 'shape': 4}]\n"
     ]
    },
    {
     "name": "stderr",
     "output_type": "stream",
     "text": [
      "call to helper: {(1, 1)}\n",
      "   call to helper: {(2, 0), (1, 0), (0, 0), (1, 1)}\n",
      "   helper returns: None\n",
      "   call to helper: {(0, 1), (2, 0), (0, 0), (1, 0), (1, 1), (2, 1)}\n",
      "   helper returns: []\n",
      "helper returns: [{'anchor': (0, 0), 'shape': 4}]\n"
     ]
    }
   ],
   "source": [
    "# C-shaped bag in 3x2 tent, one rock => fits\n",
    "tent_size = (3,2)\n",
    "rocks = {(1,1)}\n",
    "print(pack(tent_size, rocks, bag_list))"
   ]
  },
  {
   "cell_type": "code",
   "execution_count": 6,
   "metadata": {},
   "outputs": [
    {
     "name": "stdout",
     "output_type": "stream",
     "text": [
      "[{'anchor': (4, 2), 'shape': 1}, {'anchor': (3, 2), 'shape': 1}, {'anchor': (3, 0), 'shape': 3}, {'anchor': (0, 3), 'shape': 5}, {'anchor': (0, 1), 'shape': 5}, {'anchor': (0, 0), 'shape': 0}]\n"
     ]
    },
    {
     "name": "stderr",
     "output_type": "stream",
     "text": [
      "call to helper: {(1, 3), (3, 1), (1, 1)}\n",
      "   call to helper: {(2, 0), (1, 3), (0, 0), (1, 0), (3, 1), (1, 1)}\n",
      "      call to helper: {(0, 1), (2, 0), (1, 3), (0, 0), (0, 2), (1, 0), (3, 1) ...\n",
      "         call to helper: {(0, 1), (1, 3), (0, 0), (3, 1), (1, 4), (2, 0), (1, 1) ...\n",
      "            call to helper: {(0, 1), (1, 2), (3, 2), (1, 3), (0, 0), (2, 2), (3, 1) ...\n",
      "            helper returns: None\n",
      "            call to helper: {(0, 1), (1, 2), (1, 3), (0, 0), (2, 2), (3, 1), (1, 4) ...\n",
      "            helper returns: None\n",
      "         helper returns: None\n",
      "      helper returns: None\n",
      "      call to helper: {(0, 1), (1, 2), (1, 3), (0, 0), (0, 2), (3, 1), (2, 1) ...\n",
      "         call to helper: {(0, 1), (1, 2), (1, 3), (0, 0), (0, 2), (3, 1), (2, 1) ...\n",
      "            call to helper: {(1, 3), (0, 0), (3, 0), (2, 2), (2, 1), (1, 4), (1, 1) ...\n",
      "               call to helper: {(3, 2), (1, 3), (0, 0), (3, 0), (2, 2), (2, 1), (1, 4) ...\n",
      "                  call to helper: {(3, 2), (1, 3), (0, 0), (3, 0), (2, 2), (2, 1), (1, 4) ...\n",
      "                  helper returns: []\n",
      "               helper returns: [{'anchor': (4, 2), 'shape': 1}]\n",
      "            helper returns: [{'anchor': (4, 2), 'shape': 1}, {'anchor': (3, 2), 'shape': ...\n",
      "         helper returns: [{'anchor': (4, 2), 'shape': 1}, {'anchor': (3, 2), 'shape': ...\n",
      "      helper returns: [{'anchor': (4, 2), 'shape': 1}, {'anchor': (3, 2), 'shape': ...\n",
      "   helper returns: [{'anchor': (4, 2), 'shape': 1}, {'anchor': (3, 2), 'shape': ...\n",
      "helper returns: [{'anchor': (4, 2), 'shape': 1}, {'anchor': (3, 2), 'shape': ...\n"
     ]
    }
   ],
   "source": [
    "# 5x5 tent with three rocks => fits\n",
    "tent_size = (5,5)\n",
    "rocks = {(1,1),(1,3),(3,1)}\n",
    "print(pack(tent_size, rocks, bag_list))"
   ]
  },
  {
   "cell_type": "code",
   "execution_count": 7,
   "metadata": {},
   "outputs": [
    {
     "name": "stdout",
     "output_type": "stream",
     "text": [
      "None\n"
     ]
    },
    {
     "name": "stderr",
     "output_type": "stream",
     "text": [
      "call to helper: {(1, 3), (3, 1), (1, 1), (3, 3)}\n",
      "   call to helper: {(2, 0), (1, 3), (0, 0), (3, 3), (1, 0), (3, 1), (1, 1) ...\n",
      "      call to helper: {(0, 1), (1, 3), (0, 0), (3, 3), (0, 2), (3, 1), (2, 0) ...\n",
      "         call to helper: {(0, 1), (1, 3), (0, 0), (3, 3), (0, 2), (3, 1), (1, 4) ...\n",
      "            call to helper: {(0, 1), (1, 2), (3, 2), (1, 3), (0, 0), (3, 3), (0, 2) ...\n",
      "            helper returns: None\n",
      "            call to helper: {(0, 1), (1, 2), (1, 3), (0, 0), (3, 3), (0, 2), (2, 2) ...\n",
      "            helper returns: None\n",
      "         helper returns: None\n",
      "      helper returns: None\n",
      "      call to helper: {(0, 1), (1, 2), (1, 3), (0, 0), (3, 3), (0, 2), (3, 1) ...\n",
      "         call to helper: {(0, 1), (1, 2), (1, 3), (0, 0), (3, 3), (0, 2), (3, 1) ...\n",
      "            call to helper: {(1, 3), (0, 0), (3, 0), (2, 2), (2, 1), (1, 4), (1, 1) ...\n",
      "               call to helper: {(3, 2), (1, 3), (0, 0), (3, 0), (2, 2), (2, 1), (1, 4) ...\n",
      "               helper returns: None\n",
      "            helper returns: None\n",
      "         helper returns: None\n",
      "      helper returns: None\n",
      "   helper returns: None\n",
      "   call to helper: {(0, 1), (1, 3), (0, 0), (3, 3), (0, 2), (3, 1), (1, 1) ...\n",
      "      call to helper: {(0, 1), (1, 3), (0, 0), (3, 3), (3, 1), (1, 4), (1, 1) ...\n",
      "         call to helper: {(0, 1), (1, 3), (0, 0), (3, 3), (3, 0), (1, 0), (3, 1) ...\n",
      "            call to helper: {(0, 1), (1, 2), (3, 2), (1, 3), (0, 0), (3, 3), (3, 0) ...\n",
      "            helper returns: None\n",
      "         helper returns: None\n",
      "         call to helper: {(0, 1), (1, 3), (0, 0), (3, 3), (1, 0), (3, 1), (1, 4) ...\n",
      "            call to helper: {(0, 1), (1, 2), (3, 2), (1, 3), (0, 0), (3, 3), (1, 0) ...\n",
      "               call to helper: {(3, 2), (1, 3), (0, 0), (3, 0), (0, 2), (1, 4), (2, 1) ...\n",
      "               helper returns: None\n",
      "            helper returns: None\n",
      "         helper returns: None\n",
      "      helper returns: None\n",
      "   helper returns: None\n",
      "   call to helper: {(0, 1), (1, 3), (0, 0), (3, 3), (3, 1), (2, 1), (2, 0) ...\n",
      "      call to helper: {(0, 1), (1, 2), (1, 3), (0, 0), (3, 3), (0, 2), (3, 1) ...\n",
      "         call to helper: {(0, 1), (1, 2), (1, 3), (0, 0), (3, 3), (0, 2), (3, 1) ...\n",
      "            call to helper: {(1, 3), (0, 0), (3, 0), (2, 2), (2, 1), (1, 4), (1, 1) ...\n",
      "               call to helper: {(3, 2), (1, 3), (0, 0), (3, 0), (2, 2), (2, 1), (1, 4) ...\n",
      "               helper returns: None\n",
      "            helper returns: None\n",
      "         helper returns: None\n",
      "      helper returns: None\n",
      "      call to helper: {(0, 1), (1, 3), (0, 0), (3, 3), (0, 2), (3, 1), (2, 1) ...\n",
      "         call to helper: {(0, 1), (1, 2), (3, 2), (1, 3), (0, 0), (3, 3), (0, 2) ...\n",
      "            call to helper: {(0, 1), (1, 2), (3, 2), (1, 3), (0, 0), (3, 3), (0, 2) ...\n",
      "            helper returns: None\n",
      "         helper returns: None\n",
      "         call to helper: {(0, 1), (1, 2), (1, 3), (0, 0), (3, 3), (0, 2), (2, 2) ...\n",
      "            call to helper: {(0, 1), (1, 2), (1, 3), (0, 0), (3, 3), (0, 2), (2, 2) ...\n",
      "               call to helper: {(4, 1), (1, 3), (0, 0), (3, 0), (2, 1), (1, 4), (1, 1) ...\n",
      "                  call to helper: {(4, 1), (1, 3), (0, 0), (3, 2), (3, 0), (2, 1), (1, 4) ...\n",
      "                  helper returns: None\n",
      "               helper returns: None\n",
      "            helper returns: None\n",
      "         helper returns: None\n",
      "      helper returns: None\n",
      "      call to helper: {(0, 1), (1, 2), (1, 3), (0, 0), (3, 3), (0, 2), (3, 1) ...\n",
      "         call to helper: {(0, 1), (1, 2), (1, 3), (0, 0), (3, 3), (0, 2), (3, 1) ...\n",
      "            call to helper: {(1, 3), (0, 0), (3, 0), (2, 2), (2, 1), (1, 4), (1, 1) ...\n",
      "               call to helper: {(3, 2), (1, 3), (0, 0), (3, 0), (2, 2), (2, 1), (1, 4) ...\n",
      "               helper returns: None\n",
      "            helper returns: None\n",
      "         helper returns: None\n",
      "      helper returns: None\n",
      "   helper returns: None\n",
      "helper returns: None\n"
     ]
    }
   ],
   "source": [
    "# 5x5 tent with 4 rocks => fails\n",
    "tent_size = (5,5)\n",
    "rocks = {(1,1),(1,3),(3,1),(3,3)}\n",
    "print(pack(tent_size, rocks, bag_list))"
   ]
  },
  {
   "cell_type": "markdown",
   "metadata": {},
   "source": [
    "### What if we want *all* packings?"
   ]
  },
  {
   "cell_type": "code",
   "execution_count": 8,
   "metadata": {
    "collapsed": true
   },
   "outputs": [],
   "source": [
    "def all_packings(tent_size, missing_squares, bag_list):\n",
    "    all_squares = set((r, c) for r in range(tent_size[0])\n",
    "                                 for c in range(tent_size[1]))\n",
    "\n",
    "    def first_empty(covered_squares):\n",
    "        \"\"\" returns (r, c) for first empty square, else None if no empty squares \"\"\"\n",
    "        for row in range(tent_size[0]):\n",
    "            for col in range(tent_size[1]):\n",
    "                locn = (row, col)\n",
    "                if locn not in covered_squares:\n",
    "                    return locn\n",
    "        return None\n",
    "\n",
    "    def helper(covered_squares):\n",
    "        \"\"\" input: set of covered squares (covered by rocks or bags)\n",
    "            output: None if no packing can be found, else a list of packings,\n",
    "            each packing being a list of placed bags\n",
    "        \"\"\"\n",
    "        # look for first empty square\n",
    "        locn = first_empty(covered_squares)\n",
    "\n",
    "        # base case: no empty squares! A packing [] is valid; return a list of that\n",
    "        if locn is None: \n",
    "            return [[]]\n",
    "\n",
    "        ## CHANGED: now build list of all succeeding packings\n",
    "        packings = None \n",
    "\n",
    "        # try placing each type of bag: if it fits, mark its squares\n",
    "        # as covered and recursively solve resulting problem.\n",
    "        row, col = locn\n",
    "        for b in range(len(bag_list)):\n",
    "            # compute set of squares occupied by bag b at locn\n",
    "            bag_squares = set((r+row, c+col) for r, c in bag_list[b])\n",
    "\n",
    "            # is bag in-bounds? if not, it doesn't fit here\n",
    "            if len(bag_squares - all_squares) != 0:\n",
    "                continue\n",
    "\n",
    "            # are all of those bag squares free?\n",
    "            if len(bag_squares & covered_squares) == 0:\n",
    "                # yes, try packing with bag at this locn\n",
    "                result = helper(covered_squares | bag_squares)\n",
    "                if result:\n",
    "                    ## CHANGED to record ALL PACKINGS. Don't return; instead\n",
    "                    ## add to list of packings and continue\n",
    "                    for r in result:\n",
    "                        if packings is None:\n",
    "                            packings = []\n",
    "                        packings.append([{\"anchor\": locn, \"shape\": b}] + r)\n",
    "            # CHANGED: keep looking for more (continue for loop)\n",
    "        ## CHANGED: Exhausted bag options. Return packings (might be None)\n",
    "        return packings \n",
    "\n",
    "    # get things started\n",
    "    return helper(missing_squares)"
   ]
  },
  {
   "cell_type": "code",
   "execution_count": 9,
   "metadata": {},
   "outputs": [
    {
     "name": "stdout",
     "output_type": "stream",
     "text": [
      "NUMBER PACKINGS: 2\n",
      "[[{'anchor': (0, 0), 'shape': 0}, {'anchor': (0, 1), 'shape': 0}, {'anchor': (0, 2), 'shape': 0}], [{'anchor': (0, 0), 'shape': 1}, {'anchor': (1, 0), 'shape': 1}, {'anchor': (2, 0), 'shape': 1}]]\n"
     ]
    }
   ],
   "source": [
    "# Succeeds; more than one packing possible\n",
    "tent_size = (3,3)\n",
    "rocks = set()\n",
    "res = all_packings(tent_size, rocks, bag_list)\n",
    "print(\"NUMBER PACKINGS:\", len(res) if res is not None else 0)\n",
    "print(res)"
   ]
  },
  {
   "cell_type": "code",
   "execution_count": 10,
   "metadata": {},
   "outputs": [
    {
     "name": "stdout",
     "output_type": "stream",
     "text": [
      "NUMBER PACKINGS: 5\n"
     ]
    }
   ],
   "source": [
    "# More packings... (case 5)\n",
    "tent_size = (4,4)\n",
    "rocks = set()\n",
    "res = all_packings(tent_size, rocks, bag_list)\n",
    "print(\"NUMBER PACKINGS:\", len(res) if res is not None else 0)"
   ]
  },
  {
   "cell_type": "code",
   "execution_count": 11,
   "metadata": {},
   "outputs": [
    {
     "name": "stdout",
     "output_type": "stream",
     "text": [
      "NUMBER PACKINGS: 63\n"
     ]
    }
   ],
   "source": [
    "# 9x7 tent with scattered rocks -- Lots of possibilities (case 15)\n",
    "tent_size = (9,7)\n",
    "rocks = {(0,2), (2,2), (2,4), (3,4), (7,4), (5,4), (5,5), (8,6), (7,1)}\n",
    "res = all_packings(tent_size, rocks, bag_list)\n",
    "print(\"NUMBER PACKINGS:\", len(res) if res is not None else 0)"
   ]
  },
  {
   "cell_type": "code",
   "execution_count": null,
   "metadata": {
    "collapsed": true
   },
   "outputs": [],
   "source": []
  }
 ],
 "metadata": {
  "kernelspec": {
   "display_name": "Python 3",
   "language": "python",
   "name": "python3"
  },
  "language_info": {
   "codemirror_mode": {
    "name": "ipython",
    "version": 3
   },
   "file_extension": ".py",
   "mimetype": "text/x-python",
   "name": "python",
   "nbconvert_exporter": "python",
   "pygments_lexer": "ipython3",
   "version": "3.6.4"
  }
 },
 "nbformat": 4,
 "nbformat_minor": 2
}
