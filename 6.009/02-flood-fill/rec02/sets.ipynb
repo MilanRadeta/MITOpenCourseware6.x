{
 "cells": [
  {
   "cell_type": "markdown",
   "metadata": {},
   "source": [
    "# Sets\n",
    "\n",
    "A set is an unordered collection with no duplicate elements. Basic uses include membership testing and eliminating duplicate entries. Set objects also support mathematical operations like union, intersection, difference, and symmetric difference. Sets can also have important efficiency benefits."
   ]
  },
  {
   "cell_type": "markdown",
   "metadata": {},
   "source": [
    "## One Motivation -- Lists can be slooooooow....\n",
    "One motivation for using sets is that several important operations (adding an element, determining whether an element is in the set) take *constant time* regardless of the size of the set, rather than linear time in the size of the list."
   ]
  },
  {
   "cell_type": "code",
   "execution_count": null,
   "metadata": {},
   "outputs": [],
   "source": [
    "big_num = 10000000 # ten million\n",
    "big_num_list = list(range(big_num)) \n",
    "big_num_set = set(big_num_list)"
   ]
  },
  {
   "cell_type": "code",
   "execution_count": null,
   "metadata": {},
   "outputs": [],
   "source": [
    "small_num = 100\n",
    "small_num_list = list(range(big_num - small_num, big_num)) \n",
    "\n",
    "# how many of small_num_list elements are in big_num_list?\n",
    "import time\n",
    "start = time.time()\n",
    "count = 0\n",
    "print(\"counting...\")\n",
    "for i in small_num_list:\n",
    "    count = count + 1 if i in big_num_list else 0\n",
    "end = time.time()\n",
    "print(\"count using list:\", count, \"time:\", end-start, \"sec\")"
   ]
  },
  {
   "cell_type": "code",
   "execution_count": null,
   "metadata": {},
   "outputs": [],
   "source": [
    "# how many of small_num_list elements are in big_num_set?\n",
    "start = time.time()\n",
    "count = 0\n",
    "## small_num_list = big_num_list\n",
    "print(\"counting...\")\n",
    "for i in small_num_list:\n",
    "    count = count + 1 if i in big_num_set else 0\n",
    "end = time.time()\n",
    "print(\"count using set:\", count, \"time:\", end-start, \"sec\")\n",
    "\n",
    "count_intersection = len(big_num_set.intersection(set(small_num_list)))\n",
    "end2 = time.time()\n",
    "print(\"count using set intersection:\", count_intersection, \"time:\", end2-end, \"sec\")"
   ]
  },
  {
   "cell_type": "markdown",
   "metadata": {},
   "source": [
    "## Another Motivation -- Conceptual clarity with set operations"
   ]
  },
  {
   "cell_type": "code",
   "execution_count": null,
   "metadata": {},
   "outputs": [],
   "source": [
    "# Lists can have duplicate elements, and lists are ordered\n",
    "basket = ['apple', 'orange', 'apple', 'pear', 'orange']\n",
    "print(basket)\n",
    "\n",
    "# Creating a set from a list results in a set without duplicate elements\n",
    "fruit1 = set(basket)\n",
    "print(fruit1)"
   ]
  },
  {
   "cell_type": "code",
   "execution_count": null,
   "metadata": {},
   "outputs": [],
   "source": [
    "# Adding the same element again to a set doesn't change the set\n",
    "fruit1.add('apple')\n",
    "print(fruit1)"
   ]
  },
  {
   "cell_type": "code",
   "execution_count": null,
   "metadata": {},
   "outputs": [],
   "source": [
    "# But adding a different element does change (mutate) the set...\n",
    "fruit1.add('banana')\n",
    "print(fruit1)"
   ]
  },
  {
   "cell_type": "code",
   "execution_count": null,
   "metadata": {},
   "outputs": [],
   "source": [
    "# Can discard/remove elements\n",
    "fruit1.discard('grape')  #no exception if element not in set\n",
    "fruit1.remove('apple') #exception if element not in set\n",
    "print(fruit1)"
   ]
  },
  {
   "cell_type": "code",
   "execution_count": null,
   "metadata": {},
   "outputs": [],
   "source": [
    "# Sets are unordered: cannot index or slice into a set\n",
    "fruit1[0:]"
   ]
  },
  {
   "cell_type": "code",
   "execution_count": null,
   "metadata": {},
   "outputs": [],
   "source": [
    "# Can iterate over the elements in a set, in loops or comprehensions\n",
    "for elt in fruit1:\n",
    "    if 'n' in elt: \n",
    "        print(elt)\n",
    "        \n",
    "print([elt for elt in fruit1 if 'n' in elt])\n",
    "print({elt for elt in fruit1 if 'n' in elt})"
   ]
  },
  {
   "cell_type": "markdown",
   "metadata": {},
   "source": [
    "### Basic set operations"
   ]
  },
  {
   "cell_type": "code",
   "execution_count": null,
   "metadata": {},
   "outputs": [],
   "source": [
    "fruit2 = {'orange', 'apple', 'berry', 'grape', 'orange'}\n",
    "print(\"fruit1 =\", fruit1)\n",
    "print(\"fruit2 =\", fruit2)"
   ]
  },
  {
   "cell_type": "code",
   "execution_count": null,
   "metadata": {},
   "outputs": [],
   "source": [
    "#Intersection\n",
    "print(\"Intersection:\", fruit1 & fruit2)\n",
    "\n",
    "#Union\n",
    "print(\"Union:\", fruit1 | fruit2)\n",
    "\n",
    "#Difference\n",
    "print(\"Difference, fruit1 - fruit2:\", fruit1 - fruit2)\n",
    "print(\"Difference, fruit2 - fruit1:\", fruit2 - fruit1)\n",
    "\n",
    "#Symmetric Difference (all elts not in both)\n",
    "print(\"Symmetric Difference:\", fruit1 ^ fruit2)"
   ]
  },
  {
   "cell_type": "markdown",
   "metadata": {},
   "source": [
    "### Some set relations"
   ]
  },
  {
   "cell_type": "code",
   "execution_count": null,
   "metadata": {},
   "outputs": [],
   "source": [
    "fruit3 = set()  #Create an empty set with 'set()' NOT with '{}'\n",
    "fruit3.add('banana')\n",
    "fruit3.add('pear')\n",
    "\n",
    "print(\"fruit1 =\", fruit1)\n",
    "print(\"fruit2 =\", fruit2)\n",
    "print(\"fruit3 =\", fruit3)"
   ]
  },
  {
   "cell_type": "code",
   "execution_count": null,
   "metadata": {},
   "outputs": [],
   "source": [
    "#Subset\n",
    "fruit3.issubset(fruit1)"
   ]
  },
  {
   "cell_type": "code",
   "execution_count": null,
   "metadata": {},
   "outputs": [],
   "source": [
    "#Disjoint\n",
    "fruit3.isdisjoint(fruit2)"
   ]
  },
  {
   "cell_type": "code",
   "execution_count": null,
   "metadata": {},
   "outputs": [],
   "source": [
    "#Superset\n",
    "fruit1.issuperset(fruit3)"
   ]
  },
  {
   "cell_type": "markdown",
   "metadata": {},
   "source": [
    "### What kind of objects can be in a set?\n",
    "The elements of sets must be immutable hashable objects. Thus numbers, strings, tuples (as long as all elements of the tuple are also immutable/hashable objects) can be members of sets, but lists cannot be members of sets. And sets cannot be members of sets!\n",
    "(See frozensets if you're interested in an immutable/hashable variant of sets, that *can* be elements of a set.) The hashable restriction is what makes it possible to determine whether an element is in a set using constant time with respect to the size of the set; i.e., one does not need to iterate over all elements of a set to determine whether that element is in the set. (See 6.006 for more details on how this hashing works.)"
   ]
  },
  {
   "cell_type": "code",
   "execution_count": null,
   "metadata": {},
   "outputs": [],
   "source": [
    "set(['a', 1])"
   ]
  },
  {
   "cell_type": "code",
   "execution_count": null,
   "metadata": {},
   "outputs": [],
   "source": [
    "set(['a', [1]])"
   ]
  },
  {
   "cell_type": "code",
   "execution_count": null,
   "metadata": {},
   "outputs": [],
   "source": [
    "set(['a', (1,)])"
   ]
  },
  {
   "cell_type": "markdown",
   "metadata": {},
   "source": [
    "### Practice\n",
    "\n",
    "Given a list of integers `data`, return a new list `out` of boolean values \n",
    "such that `out[i] = True` if `data[i]` appears at least one more time in data, before index\n",
    "i."
   ]
  },
  {
   "cell_type": "code",
   "execution_count": null,
   "metadata": {},
   "outputs": [],
   "source": [
    "data = [7, 4, 7, 3]\n",
    "# expected output: result = [False, False, True, False]"
   ]
  },
  {
   "cell_type": "code",
   "execution_count": null,
   "metadata": {},
   "outputs": [],
   "source": [
    "def duplicate_view(data):\n",
    "    pass\n",
    "\n",
    "duplicate_view(data)"
   ]
  },
  {
   "cell_type": "code",
   "execution_count": null,
   "metadata": {},
   "outputs": [],
   "source": []
  }
 ],
 "metadata": {
  "anaconda-cloud": {},
  "kernelspec": {
   "display_name": "Python 3",
   "language": "python",
   "name": "python3"
  },
  "language_info": {
   "codemirror_mode": {
    "name": "ipython",
    "version": 3
   },
   "file_extension": ".py",
   "mimetype": "text/x-python",
   "name": "python",
   "nbconvert_exporter": "python",
   "pygments_lexer": "ipython3",
   "version": "3.6.9"
  }
 },
 "nbformat": 4,
 "nbformat_minor": 1
}
