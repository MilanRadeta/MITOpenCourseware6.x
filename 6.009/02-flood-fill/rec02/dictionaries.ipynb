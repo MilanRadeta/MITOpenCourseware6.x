{
 "cells": [
  {
   "cell_type": "markdown",
   "metadata": {
    "collapsed": true
   },
   "source": [
    "# Dictionaries\n",
    "Dictionaries are like sets, except that the \"elements\" of the dictionary are treated as keys, and a value is associated with that key. As in sets, the keys to dictionaries must be immutable and hashable objects. However, the values associated with the key can be anything, and can be mutable."
   ]
  },
  {
   "cell_type": "code",
   "execution_count": null,
   "metadata": {},
   "outputs": [],
   "source": [
    "table = {} #Create empty dictionary\n",
    "table[27] = 'my value'\n",
    "table[\"dog\"] = [1, 2, \"three\"]\n",
    "print(\"table:\", table)"
   ]
  },
  {
   "cell_type": "code",
   "execution_count": null,
   "metadata": {},
   "outputs": [],
   "source": [
    "table[27] = 3\n",
    "print(\"table:\", table)"
   ]
  },
  {
   "cell_type": "code",
   "execution_count": null,
   "metadata": {},
   "outputs": [],
   "source": [
    "if 'dog' in table:    #key in dictionary?\n",
    "    table['cat'] = 'unhappy'\n",
    "print(\"table:\", table)"
   ]
  },
  {
   "cell_type": "code",
   "execution_count": null,
   "metadata": {},
   "outputs": [],
   "source": [
    "# Iterate over keys in a dictionary. (Since python3.6, \n",
    "# dicts are iterated in order of key insertion)\n",
    "for key in table:\n",
    "    print(\"key:\", key)"
   ]
  },
  {
   "cell_type": "code",
   "execution_count": null,
   "metadata": {},
   "outputs": [],
   "source": [
    "# Iterate over values in a dictionary\n",
    "for val in table.values():\n",
    "    print(\"val:\", val)"
   ]
  },
  {
   "cell_type": "code",
   "execution_count": null,
   "metadata": {},
   "outputs": [],
   "source": [
    "# Iterate over items in a dictionary\n",
    "for key, val in table.items():\n",
    "    print(\"key:\", key, \"-- val:\", val)"
   ]
  },
  {
   "cell_type": "code",
   "execution_count": null,
   "metadata": {},
   "outputs": [],
   "source": [
    "# Remove element from a dictionary\n",
    "del table[27]  #Exception if key is not in dictionary\n",
    "print(\"table:\", table)"
   ]
  },
  {
   "cell_type": "code",
   "execution_count": null,
   "metadata": {},
   "outputs": [],
   "source": [
    "# Dictionary comprehensions also possible\n",
    "{n: n**3 for n in range(8)}"
   ]
  },
  {
   "cell_type": "markdown",
   "metadata": {
    "collapsed": true
   },
   "source": [
    "### get and setdefault\n",
    "\n",
    "The `get` method enables one to return a default value if the key is not in the dictionary.\n",
    "\n",
    "`setdefault` is a useful method for dictionaries that saves a lot of initialization code:\n",
    "\n",
    " `d.setdefault(key, val)` is equivalent to:\n",
    "\n",
    "`if key not in d:\n",
    "    d[key] = val\n",
    " d[key]`"
   ]
  },
  {
   "cell_type": "code",
   "execution_count": null,
   "metadata": {},
   "outputs": [],
   "source": [
    "# get default value if key not in table\n",
    "table = {}\n",
    "val = table.get(32, [])\n",
    "print(val)"
   ]
  },
  {
   "cell_type": "code",
   "execution_count": null,
   "metadata": {},
   "outputs": [],
   "source": [
    "# get default value if key not in table\n",
    "table = {}\n",
    "table[32] = table.get(32, []).append(1) \n",
    "print(table[32])"
   ]
  },
  {
   "cell_type": "code",
   "execution_count": null,
   "metadata": {},
   "outputs": [],
   "source": [
    "# fixes bug from above\n",
    "table = {}\n",
    "table[32] = table.get(32, [])\n",
    "table[32].append(1) \n",
    "print(table[32])"
   ]
  },
  {
   "cell_type": "code",
   "execution_count": null,
   "metadata": {},
   "outputs": [],
   "source": [
    "# simpler using setdefault\n",
    "table = {}\n",
    "table.setdefault(32, []).append(1)\n",
    "print(table[32])"
   ]
  },
  {
   "cell_type": "markdown",
   "metadata": {},
   "source": [
    "### Practice\n",
    "\n",
    "Write a procedure `remove_first_duplicate` that, given a list whose elements are integers or strings, removes (returns a new list with) the *first* occurrence of the element that first gets repeated in the list removed. If there are no duplicates, the output should be equal to the original list. Below are two example inputs you can use to verify your solution. "
   ]
  },
  {
   "cell_type": "code",
   "execution_count": null,
   "metadata": {},
   "outputs": [],
   "source": [
    "inp = [0, 12, 7, 12, 0, 12, 12, 34, 7, 23]\n",
    "# expected = [0, 7, 12, 0, 12, 12, 34, 7, 23]\n",
    "inp_str = ['zero', 'twelve', 'seven', 'twelve', 'zero', 'twelve', 'twelve',\n",
    "           'thirty four', 'seven', 'twenty three']"
   ]
  },
  {
   "cell_type": "code",
   "execution_count": null,
   "metadata": {},
   "outputs": [],
   "source": [
    "def remove_first_duplicate(data):\n",
    "    pass\n",
    "\n",
    "print(inp)\n",
    "print(remove_first_duplicate(inp))"
   ]
  }
 ],
 "metadata": {
  "kernelspec": {
   "display_name": "Python 3",
   "language": "python",
   "name": "python3"
  },
  "language_info": {
   "codemirror_mode": {
    "name": "ipython",
    "version": 3
   },
   "file_extension": ".py",
   "mimetype": "text/x-python",
   "name": "python",
   "nbconvert_exporter": "python",
   "pygments_lexer": "ipython3",
   "version": "3.6.9"
  }
 },
 "nbformat": 4,
 "nbformat_minor": 2
}
