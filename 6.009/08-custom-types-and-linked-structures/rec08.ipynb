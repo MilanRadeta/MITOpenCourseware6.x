{
 "cells": [
  {
   "cell_type": "markdown",
   "metadata": {},
   "source": [
    "For this recitation, we will be exploring class hierarchies using shapes. We are going to start by defining a parent class Shape that will represent any shape that one may want to draw. All shapes are going to have a color attribute that will be used when plotting, and will have a method to check if a point is inside a shape or not. All shapes will also have a method addToPlot that will draw a shape in a plot represented as a two dimensional array. "
   ]
  },
  {
   "cell_type": "code",
   "execution_count": null,
   "metadata": {},
   "outputs": [],
   "source": [
    "class BoundingBox:\n",
    "    def __init__(self, min_x, max_x, min_y, max_y):\n",
    "        self.min_x = min_x\n",
    "        self.max_x = max_x\n",
    "        self.min_y = min_y\n",
    "        self.max_y = max_y\n",
    "\n",
    "    def checkPoint(self, p):\n",
    "        return self.min_x <= p[0] <= self.max_x and self.min_y <= p[1] <= self.max_y\n",
    "\n",
    "    def combine(self, other):\n",
    "        return BoundingBox(min(self.min_x, other.min_x),\n",
    "                           max(self.max_x, other.max_x),\n",
    "                           min(self.min_y, other.min_y),\n",
    "                           max(self.max_y, other.max_y))"
   ]
  },
  {
   "cell_type": "code",
   "execution_count": null,
   "metadata": {},
   "outputs": [],
   "source": [
    "class Shape():\n",
    "    def __init__(self, color, bbox):\n",
    "        self.color = color\n",
    "        self.bbox = bbox\n",
    "\n",
    "    def checkPoint(self, p):\n",
    "        '''\n",
    "        This method will be different for different shapes.\n",
    "        '''\n",
    "        raise NotImplementedError\n",
    "\n",
    "    def getColor(self):\n",
    "        return self.color\n",
    "    \n",
    "    def getBoundingBox(self):\n",
    "        return self.bbox\n",
    "\n",
    "    def addToPlot(self, plot):\n",
    "        '''\n",
    "        This method iterates through the plot and checks if a point should be colored.\n",
    "        '''\n",
    "        plotDimensions = plot.shape\n",
    "        for i in range(plotDimensions[0]):\n",
    "            for j in range(plotDimensions[1]):\n",
    "                p = (j,i)\n",
    "                if self.checkPoint(p):\n",
    "                    plot[i][j] = self.getColor()\n",
    "    \n",
    "    def __add__(self, other):\n",
    "        return Union(self, other)\n",
    "\n",
    "    def __sub__(self, other):\n",
    "        return Dif(self, other)\n",
    "    \n",
    "    def __mul__(self, other):\n",
    "        return Intersect(self, other)\n",
    "\n",
    " "
   ]
  },
  {
   "cell_type": "markdown",
   "metadata": {},
   "source": [
    "Now, we are ready to define some basic shapes."
   ]
  },
  {
   "cell_type": "code",
   "execution_count": null,
   "metadata": {},
   "outputs": [],
   "source": [
    "class Box(Shape):\n",
    "    def __init__(self, color, lowerLeft, upperRight):\n",
    "        super().__init__(color, BoundingBox(lowerLeft[0], upperRight[0], lowerLeft[1], upperRight[1]))\n",
    "        self.lowerLeft = lowerLeft\n",
    "        self.upperRight = upperRight\n",
    "        \n",
    "    def checkPoint(self, p):\n",
    "        return self.getBoundingBox().checkPoint(p)\n",
    "        \n",
    "    \n",
    "\n",
    "class Circle(Shape):\n",
    "    def __init__(self, color, center, radius):\n",
    "        super().__init__(color, BoundingBox(center[0] - radius, center[0] + radius, center[1] - radius, center[1] + radius))\n",
    "        self.center = center\n",
    "        self.radius = radius\n",
    "        \n",
    "    def checkPoint(self, p):\n",
    "        return (p[0] - self.center[0]) ** 2 + (p[1] - self.center[1]) ** 2 <= self.radius ** 2\n",
    "       "
   ]
  },
  {
   "cell_type": "markdown",
   "metadata": {},
   "source": [
    "We can even define a Square as a special kind of box."
   ]
  },
  {
   "cell_type": "code",
   "execution_count": null,
   "metadata": {},
   "outputs": [],
   "source": [
    "class Square(Box):\n",
    "    def __init__(self, color, lowerLeft, length):\n",
    "        super().__init__(color, lowerLeft, (lowerLeft[0] + length, lowerLeft[1] + length))\n",
    "        self.length = length\n"
   ]
  },
  {
   "cell_type": "markdown",
   "metadata": {},
   "source": [
    "We can define a simple drawing function using matplotlib."
   ]
  },
  {
   "cell_type": "code",
   "execution_count": null,
   "metadata": {},
   "outputs": [],
   "source": [
    "import numpy as np\n",
    "import matplotlib.cm as cm\n",
    "import matplotlib.pyplot as plt\n",
    "\n",
    "\n",
    "def drawShapes(shapes):\n",
    "    Z = np.array([[ 0   for j in range(0, 101)  ] for i in range(0, 101)])\n",
    "    for s in shapes:\n",
    "        s.addToPlot(Z)\n",
    "    fig, ax = plt.subplots()\n",
    "    im = ax.imshow(Z, cmap=cm.tab20c,\n",
    "               origin='lower', extent=[0, 100, 0, 100],\n",
    "               vmax=10, vmin=0)\n",
    "\n",
    "    plt.show()"
   ]
  },
  {
   "cell_type": "markdown",
   "metadata": {},
   "source": [
    "We can now draw a few different shapes."
   ]
  },
  {
   "cell_type": "code",
   "execution_count": null,
   "metadata": {},
   "outputs": [],
   "source": [
    "drawShapes([(Square(5, (5,5), 40)- Box(4, (10, 40), (80, 60))) * Circle(3, (10, 10), 16)])"
   ]
  },
  {
   "cell_type": "markdown",
   "metadata": {},
   "source": [
    "We can also define shapes that represent Boolean combinations of other shapes."
   ]
  },
  {
   "cell_type": "code",
   "execution_count": null,
   "metadata": {},
   "outputs": [],
   "source": [
    "class Combo(Shape):\n",
    "    def __init__(self, shape1, shape2, chkPt):\n",
    "        super().__init__(shape1.getColor(), shape1.getBoundingBox().combine(shape2.getBoundingBox()))\n",
    "        self.chkPt = chkPt\n",
    "\n",
    "    def checkPoint(self, p):\n",
    "        return self.getBoundingBox().checkPoint(p) and self.chkPt(p)\n",
    "\n",
    "class Union(Combo):\n",
    "    def __init__(self, shape1, shape2):\n",
    "        super().__init__(shape1, shape2, lambda p: shape1.checkPoint(p) or shape2.checkPoint(p))\n",
    "\n",
    "class Dif(Combo):\n",
    "    def __init__(self, shape1, shape2):\n",
    "        super().__init__(shape1, shape2, lambda p: shape1.checkPoint(p) and not shape2.checkPoint(p))\n",
    "\n",
    "class Intersect(Combo):\n",
    "    def __init__(self, shape1, shape2):\n",
    "        super().__init__(shape1, shape2, lambda p: shape1.checkPoint(p) and shape2.checkPoint(p))"
   ]
  },
  {
   "cell_type": "markdown",
   "metadata": {},
   "source": [
    "You can even redefine the `+`, `-`, and `*` operators for the shape above to support a nice notation for combining shapes."
   ]
  },
  {
   "cell_type": "code",
   "execution_count": null,
   "metadata": {},
   "outputs": [],
   "source": [
    "   def __add__(self, other):\n",
    "        return Union(self, other)\n",
    "\n",
    "    def __sub__(self, other):\n",
    "        return Dif(self, other)\n",
    "    \n",
    "    def __mul__(self, other):\n",
    "        return Intersect(self, other)"
   ]
  },
  {
   "cell_type": "code",
   "execution_count": null,
   "metadata": {},
   "outputs": [],
   "source": [
    "blob = (Square(1, (10, 10), 40) - Box(2, (40, 40), (80, 60))) * Circle(3, (50, 50), 30)\n",
    "drawShapes([blob])"
   ]
  },
  {
   "cell_type": "code",
   "execution_count": null,
   "metadata": {},
   "outputs": [],
   "source": [
    "class ReColor(Shape):\n",
    "    def __init__(self, shape, color):\n",
    "        super().__init__(color, shape.getBoundingBox())\n",
    "        self.shape = shape\n",
    "        \n",
    "\n",
    "    def checkPoint(self, p):\n",
    "        return self.shape.checkPoint(p)\n",
    "    \n",
    "\n",
    "    \n",
    "class Distort(Shape):\n",
    "    def __init__(self, shape, translate):\n",
    "        super().__init__(shape.getColor(), BoundingBox(0, 0, 0, 0))\n",
    "        self.shape = shape\n",
    "        self.translate = translate\n",
    "\n",
    "    def checkPoint(self, p):\n",
    "        return self.shape.checkPoint(self.translate(p))"
   ]
  },
  {
   "cell_type": "code",
   "execution_count": null,
   "metadata": {},
   "outputs": [],
   "source": [
    "drawShapes([ReColor(blob, 3)])"
   ]
  },
  {
   "cell_type": "code",
   "execution_count": null,
   "metadata": {},
   "outputs": [],
   "source": [
    "drawShapes([Distort(blob, lambda p: ((p[0]+p[1])*2, p[1]/2+15))])"
   ]
  },
  {
   "cell_type": "code",
   "execution_count": null,
   "metadata": {},
   "outputs": [],
   "source": []
  }
 ],
 "metadata": {
  "kernelspec": {
   "name": "python3",
   "display_name": "Python 3.8.2 64-bit",
   "metadata": {
    "interpreter": {
     "hash": "2db524e06e9f5f4ffedc911c917cb75e12dbc923643829bf417064a77eb14d37"
    }
   }
  },
  "language_info": {
   "codemirror_mode": {
    "name": "ipython",
    "version": 3
   },
   "file_extension": ".py",
   "mimetype": "text/x-python",
   "name": "python",
   "nbconvert_exporter": "python",
   "pygments_lexer": "ipython3",
   "version": "3.8.2-final"
  }
 },
 "nbformat": 4,
 "nbformat_minor": 4
}