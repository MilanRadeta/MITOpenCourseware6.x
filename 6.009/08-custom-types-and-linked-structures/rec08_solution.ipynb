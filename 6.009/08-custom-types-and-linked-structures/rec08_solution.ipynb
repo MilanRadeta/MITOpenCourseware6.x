{
 "cells": [
  {
   "cell_type": "markdown",
   "metadata": {},
   "source": [
    "For this recitation, we will be exploring class hierarchies using shapes. We are going to start by defining a parent class Shape that will represent any shape that one may want to draw. Every shape is going to have a color attribute that will be used when plotting, and every shape will have a method to check if a point is inside the shape or not. Every shape will also have a method `addToPlot` that will draw that shape in a plot represented as a two-dimensional array.\n",
    "\n",
    "Before we get to the shapes, here is a drawing function that we mostly won't explain, as it appeals to a popular Python library with a nontrivial interface."
   ]
  },
  {
   "cell_type": "code",
   "execution_count": null,
   "metadata": {},
   "outputs": [],
   "source": [
    "import numpy as np\n",
    "import matplotlib.cm as cm\n",
    "import matplotlib.pyplot as plt\n",
    "import math\n",
    "\n",
    "def drawShapes(shapes):\n",
    "    print(f\"{Shape.num} shapes created\")\n",
    "    Z = np.array([[0 for j in range(0, 501)] for i in range(0, 501)])\n",
    "    for i in range(Z.shape[0]):\n",
    "        for j in range(Z.shape[1]):\n",
    "            p = (j, i)\n",
    "            for s in shapes:\n",
    "                if (s.checkPoint(p)):\n",
    "                    Z[i][j] = s.getColor()\n",
    "\n",
    "    fig, ax = plt.subplots()\n",
    "    im = ax.imshow(Z, cmap=cm.tab20c,\n",
    "                   origin='lower', extent=[0, 500, 0, 500],\n",
    "                   vmax=10, vmin=0)\n",
    "\n",
    "    plt.show()"
   ]
  },
  {
   "cell_type": "markdown",
   "metadata": {},
   "source": [
    "Now our main base class for shapes:"
   ]
  },
  {
   "cell_type": "code",
   "execution_count": null,
   "metadata": {},
   "outputs": [],
   "source": [
    "class Shape():\n",
    "    num = 0\n",
    "    def __init__(self, color):\n",
    "        self.color = color\n",
    "        Shape.num = Shape.num + 1 # Centralized counting of how many shapes we have made lately.\n",
    "\n",
    "    def checkPoint(self, p):\n",
    "        '''\n",
    "        Does point p fall within this shape?  Override in subclasses.\n",
    "        '''\n",
    "        raise NotImplementedError\n",
    "\n",
    "    def center(self):\n",
    "        '''\n",
    "        What is the geomertic center of this shape?  Override in subclasses.\n",
    "        '''\n",
    "        raise NotImplementedError\n",
    "\n",
    "    def getColor(self):\n",
    "        return self.color\n",
    "\n",
    "    # For simplicity of workflow, we mention these three methods near the start of class,\n",
    "    # but we only explain their purposes near the end of class.\n",
    "    def __add__(self, other):\n",
    "        return Union(self, other)\n",
    "\n",
    "    def __sub__(self, other):\n",
    "        return Dif(self, other)\n",
    "\n",
    "    def __mul__(self, other):\n",
    "        return Intersect(self, other)"
   ]
  },
  {
   "cell_type": "markdown",
   "metadata": {},
   "source": [
    "Now, we are ready to define some basic shapes."
   ]
  },
  {
   "cell_type": "code",
   "execution_count": null,
   "metadata": {},
   "outputs": [],
   "source": [
    "class Box(Shape):\n",
    "    def __init__(self, color, lowerLeft, upperRight):\n",
    "        super().__init__(color)\n",
    "        self.lowerLeft = lowerLeft\n",
    "        self.upperRight = upperRight\n",
    "\n",
    "    def checkPoint(self, p):\n",
    "        return p[0] >= self.lowerLeft[0] and p[0] <= self.upperRight[0] \\\n",
    "            and p[1] >= self.lowerLeft[1] and p[1] <= self.upperRight[1]\n",
    "\n",
    "    def center(self):\n",
    "        return ((self.lowerLeft[0] + self.upperRight[0])/2,\n",
    "                (self.lowerLeft[1] + self.upperRight[1])/2)\n",
    "\n",
    "    def __repr__(self):\n",
    "        return f\"Box({self.lowerLeft}, {self.upperRight})\"\n",
    "\n",
    "    # A fun twist to add later in class: a version of the shape that is not filled in.\n",
    "    def outline(self):\n",
    "        rem = Box(self.color,\n",
    "                  (self.lowerLeft[0] + 1, self.lowerLeft[1] + 1),\n",
    "                  (self.upperRight[0] - 1, self.upperRight[1] - 1))\n",
    "        return self - rem"
   ]
  },
  {
   "cell_type": "markdown",
   "metadata": {},
   "source": [
    "A quick example of drawing boxes:"
   ]
  },
  {
   "cell_type": "code",
   "execution_count": null,
   "metadata": {},
   "outputs": [],
   "source": [
    "def boxTest():\n",
    "    boxes = []\n",
    "    for i in range(10, 200, 10):\n",
    "        box = Box(2, (i, 2*i), (i+20, 2*i+40))\n",
    "        boxes.append(box)\n",
    "    return boxes"
   ]
  },
  {
   "cell_type": "code",
   "execution_count": null,
   "metadata": {},
   "outputs": [],
   "source": [
    "drawShapes(boxTest())"
   ]
  },
  {
   "cell_type": "markdown",
   "metadata": {},
   "source": [
    "Next up: circles."
   ]
  },
  {
   "cell_type": "code",
   "execution_count": null,
   "metadata": {},
   "outputs": [],
   "source": [
    "class Circle(Shape):\n",
    "    def __init__(self, color, cent, radius):\n",
    "        super().__init__(color)\n",
    "        self.cent = cent\n",
    "        self.radius = radius\n",
    "\n",
    "    def checkPoint(self, p):\n",
    "        dx = p[0] - self.cent[0]\n",
    "        dy = p[1] - self.cent[1]\n",
    "        return dx * dx + dy * dy <= self.radius * self.radius\n",
    "\n",
    "    def center(self):\n",
    "        return self.cent\n",
    "\n",
    "    def __repr__(self):\n",
    "        return f\"Circle({self.cent}, {self.radius})\"\n",
    "\n",
    "    def outline(self):\n",
    "        rem = Circle(self.color, (self.cent[0] + 1, self.cent[1] + 1), self.radius - 2)\n",
    "        return self - rem"
   ]
  },
  {
   "cell_type": "code",
   "execution_count": null,
   "metadata": {},
   "outputs": [],
   "source": [
    "def circleTest(size=4):\n",
    "    circ = Circle(1, (size, size), size/2)\n",
    "    if size < 400:\n",
    "        return circleTest(size * 2) + [circ]\n",
    "    else:\n",
    "        return [circ]"
   ]
  },
  {
   "cell_type": "code",
   "execution_count": null,
   "metadata": {},
   "outputs": [],
   "source": [
    "drawShapes(circleTest())"
   ]
  },
  {
   "cell_type": "markdown",
   "metadata": {},
   "source": [
    "We can even define a square as a special kind of box."
   ]
  },
  {
   "cell_type": "code",
   "execution_count": null,
   "metadata": {},
   "outputs": [],
   "source": [
    "class Square(Box):\n",
    "    def __init__(self, color, mid, side):\n",
    "        super().__init__(color, (mid[0] - side/2, mid[1] - side/2), (mid[0] + side/2, mid[1] + side/2))\n",
    "\n",
    "    def __repr__(self):\n",
    "        return f\"Square({super().__repr__()})\""
   ]
  },
  {
   "cell_type": "code",
   "execution_count": null,
   "metadata": {},
   "outputs": [],
   "source": [
    "def squareTest1(center=(250,150), size=200):\n",
    "    quad = []\n",
    "    if size > 10:\n",
    "        quad = [Square(1, center, size-1)]\n",
    "        c0 = (center[0] - size/4 - 1, center[1] + 3*size/4+2)\n",
    "        quad = quad + squareTest1(c0, size/2 - 2)\n",
    "        c1 = (center[0] + size/4 + 1, center[1] + 3*size/4+2)\n",
    "        quad = quad  + squareTest1(c1, size/2 - 2)\n",
    "\n",
    "    return quad"
   ]
  },
  {
   "cell_type": "code",
   "execution_count": null,
   "metadata": {},
   "outputs": [],
   "source": [
    "drawShapes(squareTest1())"
   ]
  },
  {
   "cell_type": "markdown",
   "metadata": {},
   "source": [
    "It's also easy-enough to combine different kinds of shapes."
   ]
  },
  {
   "cell_type": "code",
   "execution_count": null,
   "metadata": {},
   "outputs": [],
   "source": [
    "drawShapes([Square(1, (50, 50), 30), Box(2, (200, 200), (400, 300)), Circle(3, (400, 50), 30)])"
   ]
  },
  {
   "cell_type": "markdown",
   "metadata": {},
   "source": [
    "Let's experiment with operators that move and resize shapes, as ingredients for describing more-complex compositions in terms of simpler ones.  The latter operation is the whole reason behind the `center` method that we've been including (which during class we'll realize at this point and add)."
   ]
  },
  {
   "cell_type": "code",
   "execution_count": null,
   "metadata": {},
   "outputs": [],
   "source": [
    "class Shift(Shape):\n",
    "    def __init__(self, shape, offset):\n",
    "        self.offset = offset\n",
    "        self.shape = shape\n",
    "        super().__init__(shape.getColor())\n",
    "\n",
    "    def checkPoint(self, p):\n",
    "        newp = (p[0] - self.offset[0], p[1] - self.offset[1])\n",
    "        return self.shape.checkPoint(newp)\n",
    "\n",
    "    def center(self):\n",
    "        return (self.shape.center()[0] + self.offset[0], self.shape.center()[1] + self.offset[1])\n",
    "\n",
    "    def __repr__(self):\n",
    "        return f\"Shift({self.shape} by {self.offset})\"\n",
    "\n",
    "\n",
    "class Scale(Shape):\n",
    "    def __init__(self, shape, scale):\n",
    "        self.scale = scale\n",
    "        self.shape = shape\n",
    "        super().__init__(shape.getColor())\n",
    "\n",
    "    def checkPoint(self, p):\n",
    "        cent = self.shape.center()\n",
    "        newp = (p[0]/self.scale + cent[0]*(1 - 1/self.scale), p[1]/self.scale + cent[1]*(1-1/self.scale))\n",
    "        return self.shape.checkPoint(newp)\n",
    "\n",
    "    def center(self):\n",
    "        return self.shape.center()\n",
    "\n",
    "    def __repr__(self):\n",
    "        return f\"Scale({self.shape} by {self.scale})\""
   ]
  },
  {
   "cell_type": "markdown",
   "metadata": {},
   "source": [
    "A moderately complex example:"
   ]
  },
  {
   "cell_type": "code",
   "execution_count": null,
   "metadata": {},
   "outputs": [],
   "source": [
    "def squareTest2(square, size):\n",
    "    quad = []\n",
    "    if size > 10:\n",
    "        quad = [square]\n",
    "        square = Scale(square, 1/2-1/size)\n",
    "        c0 = (-size/4 - 1, 3*size/4 + 2)\n",
    "        sq0 = Shift(square, c0)\n",
    "        quad = quad + squareTest2(sq0, size/2-2)\n",
    "        c1 = (size/4 + 1, 3*size/4 + 2)\n",
    "        sq1 = Shift(square, c1)\n",
    "        quad = quad + squareTest2(sq1, size/2-2)\n",
    "    return quad"
   ]
  },
  {
   "cell_type": "code",
   "execution_count": null,
   "metadata": {},
   "outputs": [],
   "source": [
    "drawShapes(squareTest2(Square(1, (250, 150), 200), 200))"
   ]
  },
  {
   "cell_type": "markdown",
   "metadata": {},
   "source": [
    "A trickier transformation is rotation."
   ]
  },
  {
   "cell_type": "code",
   "execution_count": null,
   "metadata": {},
   "outputs": [],
   "source": [
    "class Rotate(Shape):\n",
    "    def __init__(self, shape, angle):\n",
    "        self.angle = angle\n",
    "        self.shape = shape\n",
    "        super().__init__(shape.getColor())\n",
    "\n",
    "    def checkPoint(self, p):\n",
    "        newp = (p[0] * math.cos(self.angle) - p[1] * math.sin(self.angle),\n",
    "                p[1] * math.cos(self.angle) + p[0] * math.sin(self.angle))\n",
    "        return self.shape.checkPoint(newp)\n",
    "\n",
    "    def center(self):\n",
    "        p = self.shape.center()\n",
    "        return (p[0] * math.cos(self.angle) - p[1] * math.sin(self.angle),\n",
    "                p[1] * math.cos(self.angle) + p[0] * math.sin(self.angle))\n",
    "\n",
    "    def __repr__(self):\n",
    "        return f\"Shift({self.shape} by {self.angle})\""
   ]
  },
  {
   "cell_type": "markdown",
   "metadata": {},
   "source": [
    "To enable another fun example, let's implement combination of shapes into larger shapes, or \"union.\""
   ]
  },
  {
   "cell_type": "code",
   "execution_count": null,
   "metadata": {},
   "outputs": [],
   "source": [
    "class Union(Shape):\n",
    "    def __init__(self, shape1, shape2):\n",
    "        super().__init__(shape1.getColor())\n",
    "        self.shape1 = shape1\n",
    "        self.shape2 = shape2\n",
    "\n",
    "    def checkPoint(self, p):\n",
    "        return self.shape1.checkPoint(p) or self.shape2.checkPoint(p)\n",
    "\n",
    "    def center(self):\n",
    "        c1 = self.shape1.center()\n",
    "        c2 = self.shape2.center()\n",
    "        return ((c1[0]+c2[0])/2, (c1[1]+c2[1])/2)\n",
    "\n",
    "    def __repr__(self):\n",
    "        return f\"union({self.shape1} or {self.shape2})\""
   ]
  },
  {
   "cell_type": "markdown",
   "metadata": {},
   "source": [
    "OK, now an example where we build up a composite shape gradually.  You might notice it's functionally identical to our previous example (`squareTest2`), though it builds one big shape instead of a list of many."
   ]
  },
  {
   "cell_type": "code",
   "execution_count": null,
   "metadata": {},
   "outputs": [],
   "source": [
    "def squareTest3(square, size):\n",
    "    quad = square\n",
    "    if size/2 - 2 > 10:\n",
    "        square = Scale(square, 1 / 2 - 1 / size)\n",
    "        c0 = (-size/4 - 1, 3*size/4 + 2)\n",
    "        sq0 = Shift(square, c0)\n",
    "        quad = quad + squareTest3(sq0, size/2-2)\n",
    "        c1 = (size/4 + 1, 3*size/4 + 2)\n",
    "        sq1 = Shift(square, c1)\n",
    "        quad = quad + squareTest3(sq1, size/2-2)\n",
    "    return quad"
   ]
  },
  {
   "cell_type": "code",
   "execution_count": null,
   "metadata": {},
   "outputs": [],
   "source": [
    "drawShapes([squareTest3(Square(1, (250, 150), 200), 200)])"
   ]
  },
  {
   "cell_type": "markdown",
   "metadata": {},
   "source": [
    "We can also implement a fan-favorite kind of example, a fractal drawing."
   ]
  },
  {
   "cell_type": "code",
   "execution_count": null,
   "metadata": {},
   "outputs": [],
   "source": [
    "def drawFractal(obj, center, size):\n",
    "    for i in range(5):\n",
    "        circ = Shift(Rotate(Circle(2, (3*size/4-3, 3*size/4-3), size/2-6), 2*math.pi/5*i), center)\n",
    "        cent = circ.center()\n",
    "        if size > 40:\n",
    "            circ = drawFractal(circ, cent, size/2)\n",
    "        obj = obj + circ\n",
    "    return obj"
   ]
  },
  {
   "cell_type": "code",
   "execution_count": null,
   "metadata": {},
   "outputs": [],
   "source": [
    "drawShapes([drawFractal(Circle(1, (250, 250), 100), (250, 250), 100)])"
   ]
  },
  {
   "cell_type": "markdown",
   "metadata": {},
   "source": [
    "Another useful way of combining shapes is *subtraction*."
   ]
  },
  {
   "cell_type": "code",
   "execution_count": null,
   "metadata": {},
   "outputs": [],
   "source": [
    "class Dif(Shape):\n",
    "    def __init__(self, shape1, shape2):\n",
    "        super().__init__(shape1.getColor())\n",
    "        self.shape1 = shape1\n",
    "        self.shape2 = shape2\n",
    "\n",
    "    def checkPoint(self, p):\n",
    "        return self.shape1.checkPoint(p) and not self.shape2.checkPoint(p)\n",
    "\n",
    "    def center(self):\n",
    "        return self.shape1.center()\n",
    "\n",
    "    def __repr__(self):\n",
    "        return f\"dif({self.shape1} - {self.shape2})\""
   ]
  },
  {
   "cell_type": "markdown",
   "metadata": {},
   "source": [
    "Subtraction is useful for describing a pretty spiral design.  First, a preliminary:"
   ]
  },
  {
   "cell_type": "code",
   "execution_count": null,
   "metadata": {},
   "outputs": [],
   "source": [
    "def spiral():\n",
    "    box = Square(2, (0, 0), 100).outline()\n",
    "\n",
    "    for i in range(0, 75):\n",
    "        box = box + Shift(Rotate((Square(3, (10, 10), 100+i*4).outline()), math.pi/100*i*4), (250, 250))\n",
    "    return box"
   ]
  },
  {
   "cell_type": "code",
   "execution_count": null,
   "metadata": {},
   "outputs": [],
   "source": [
    "drawShapes([spiral()])"
   ]
  },
  {
   "cell_type": "markdown",
   "metadata": {},
   "source": [
    "What happens if we subtract the spiral from the fractal?"
   ]
  },
  {
   "cell_type": "code",
   "execution_count": null,
   "metadata": {},
   "outputs": [],
   "source": [
    "drawShapes([drawFractal(Circle(1, (250, 250), 100), (250, 250), 100) - spiral()])"
   ]
  },
  {
   "cell_type": "markdown",
   "metadata": {},
   "source": [
    "Another classic operator is intersection of shapes.  Here's a definition for it, and we'll leave an exercise for the reader, to come up with nice drawings that use it!"
   ]
  },
  {
   "cell_type": "code",
   "execution_count": null,
   "metadata": {},
   "outputs": [],
   "source": [
    "class Intersect(Shape):\n",
    "    def __init__(self, shape1, shape2):\n",
    "        super().__init__(shape1.getColor())\n",
    "        self.shape1 = shape1\n",
    "        self.shape2 = shape2\n",
    "\n",
    "    def checkPoint(self, p):\n",
    "        return self.shape1.checkPoint(p) and self.shape2.checkPoint(p)\n",
    "\n",
    "    def center(self):\n",
    "        c1 = self.shape1.center()\n",
    "        c2 = self.shape2.center()\n",
    "        return ((c1[0]+c2[0])/2, (c1[1]+c2[1])/2)\n",
    "\n",
    "    def __repr__(self):\n",
    "        return f\"intersect({self.shape1} and {self.shape2})\""
   ]
  }
 ],
 "metadata": {
  "kernelspec": {
   "name": "python3",
   "display_name": "Python 3.8.2 64-bit",
   "metadata": {
    "interpreter": {
     "hash": "2db524e06e9f5f4ffedc911c917cb75e12dbc923643829bf417064a77eb14d37"
    }
   }
  },
  "language_info": {
   "codemirror_mode": {
    "name": "ipython",
    "version": 3
   },
   "file_extension": ".py",
   "mimetype": "text/x-python",
   "name": "python",
   "nbconvert_exporter": "python",
   "pygments_lexer": "ipython3",
   "version": "3.8.2-final"
  }
 },
 "nbformat": 4,
 "nbformat_minor": 4
}